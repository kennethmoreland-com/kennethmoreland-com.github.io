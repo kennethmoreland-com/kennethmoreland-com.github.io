{
 "cells": [
  {
   "cell_type": "markdown",
   "metadata": {},
   "source": [
    "# Kindlmann Color Map\n",
    "\n",
    "This iPython notebook contains the script required to derive what is often known as the Kindlmann color map, so named because its first known design is in a paper by [Kindlmann, Reinhard, and Creem](http://www.cs.utah.edu/~gk/papers/vis02/), although this derivation takes inspiration from other sources. The map is basically the rainbow color map with the luminance adjusted such that it monotonically changes, making it much more perceptually viable."
   ]
  },
  {
   "cell_type": "markdown",
   "metadata": {},
   "source": [
    "This code relies on the [python-colormath](http://python-colormath.readthedocs.org/en/latest/index.html) module. See [its documentation](http://python-colormath.readthedocs.org/en/latest/index.html) for information such as installation instructions. (It can be installed with either pip or macports.)"
   ]
  },
  {
   "cell_type": "code",
   "execution_count": 1,
   "metadata": {},
   "outputs": [],
   "source": [
    "from colormath.color_objects import *\n",
    "from colormath.color_conversions import convert_color"
   ]
  },
  {
   "cell_type": "markdown",
   "metadata": {},
   "source": [
    "Mostly because it's habit, I am also using [pandas](http://pandas.pydata.org/) dataframes to organize the data. (Pandas can be installed with macports.)"
   ]
  },
  {
   "cell_type": "code",
   "execution_count": 2,
   "metadata": {},
   "outputs": [],
   "source": [
    "import pandas\n",
    "import numpy"
   ]
  },
  {
   "cell_type": "markdown",
   "metadata": {},
   "source": [
    "We will also be using [toyplot](https://toyplot.readthedocs.org) for making visuals (version 0.10.0 or later required). See its documentation for installation instructions."
   ]
  },
  {
   "cell_type": "code",
   "execution_count": 3,
   "metadata": {},
   "outputs": [],
   "source": [
    "import toyplot\n",
    "import toyplot.svg"
   ]
  },
  {
   "cell_type": "markdown",
   "metadata": {},
   "source": [
    "This map is built by spinning through the hues defined in the standard HSV space. Define the start and end hues."
   ]
  },
  {
   "cell_type": "code",
   "execution_count": 4,
   "metadata": {},
   "outputs": [],
   "source": [
    "start_hue = 300.0\n",
    "end_hue = 0.0"
   ]
  },
  {
   "cell_type": "markdown",
   "metadata": {},
   "source": [
    "## Support Functions\n",
    "\n",
    "The original Kindlmann paper created their color map by having a human user adjust the brightness to a prescribed luminance. (The color map was really proposed as a use case for a technique that allows humans to match colors.) Personally, I think this technique is overkill. First of all, no one is going to calibrate to their display. (I don't even want to do it one time just to get initial values.) Second, any change in the display will invalidate the calibration anyway.\n",
    "\n",
    "Instead, I am going to use a programmatic technique proposed in [a blog post by Matteo Niccoli](https://mycarta.wordpress.com/2012/12/06/the-rainbow-is-deadlong-live-the-rainbow-part-5-cie-lab-linear-l-rainbow/). The idea is to convert the RGB values to the perceptual CIELAB space, adjust the L (luminance) value in CIELAB, and then convert back to RGB.\n",
    "\n",
    "To do this, we need a function that takes a hue value and adjusts its luminance. Of course, we need to convert to CIELAB and alter the L value. But then we also have to adjust the a and b values so that the color is back in the representable color gamut. We do this with a binary search."
   ]
  },
  {
   "cell_type": "code",
   "execution_count": 5,
   "metadata": {},
   "outputs": [],
   "source": [
    "def valid_color(color):\n",
    "    '''Given a color from the colormath.color_objects package,\n",
    "    returns whether it can be displayed in RGB.'''\n",
    "    rgb = convert_color(color, sRGBColor).get_upscaled_value_tuple()\n",
    "    return ((rgb[0] >= 0) and (rgb[0] <= 255) and\n",
    "            (rgb[1] >= 0) and (rgb[1] <= 255) and\n",
    "            (rgb[2] >= 0) and (rgb[2] <= 255))\n",
    "\n",
    "def safe_color(color):\n",
    "    '''Given a color from the colormath.color_objects package,\n",
    "    returns whether it is in the RGB color gamut and far enough\n",
    "    away from the gamut border to be considered 'safe.' Colors\n",
    "    right on the edge of displayable colors sometimes do not\n",
    "    display quite right and also sometimes leave the color\n",
    "    gamut when interpolated.'''\n",
    "    rgb_color = convert_color(color, sRGBColor)\n",
    "    rgb_vector = rgb_color.get_value_tuple()\n",
    "    clamp_dist = 0.05*(numpy.max(rgb_vector) - numpy.min(rgb_vector))\n",
    "    return ((rgb_color.rgb_r >= clamp_dist) and (rgb_color.rgb_r <= 1-clamp_dist) and\n",
    "            (rgb_color.rgb_g >= clamp_dist) and (rgb_color.rgb_g <= 1-clamp_dist) and\n",
    "            (rgb_color.rgb_b >= clamp_dist) and (rgb_color.rgb_b <= 1-clamp_dist))\n",
    "\n",
    "def scale_hue(hue, scalar):\n",
    "    '''Given a hue value (in degrees) and a scalar value between\n",
    "    0 and 1, create a color to have a luminance proportional to\n",
    "    the scalar with the given hue. Returns an sRGBColor value.'''\n",
    "    #Special cases\n",
    "    if scalar <= 0:\n",
    "        return sRGBColor(0, 0, 0)\n",
    "    if scalar >= 1:\n",
    "        return sRGBColor(1, 1, 1)\n",
    "    \n",
    "    # Make hue in the range [0, 360]\n",
    "    while hue >= 360:\n",
    "        hue -= 360\n",
    "    while hue < 0:\n",
    "        hue += 360\n",
    "\n",
    "    hsv_original = HSVColor(hue, 1.0, 1.0)\n",
    "    rgb_original = convert_color(hsv_original, sRGBColor)\n",
    "    lab_original = convert_color(rgb_original, LabColor)\n",
    "    l_target = 100.0*scalar\n",
    "    a_original = lab_original.lab_a\n",
    "    b_original = lab_original.lab_b\n",
    "    observer = lab_original.observer\n",
    "    illuminant = lab_original.illuminant\n",
    "    \n",
    "    high_scale = 1.0\n",
    "    low_scale = 0.0\n",
    "    for i in range(0, 12):\n",
    "        mid_scale = (high_scale-low_scale)/2 + low_scale\n",
    "        if safe_color(LabColor(l_target, mid_scale*a_original, mid_scale*b_original,\n",
    "                               observer=observer, illuminant=illuminant)):\n",
    "            low_scale = mid_scale\n",
    "        else:\n",
    "            high_scale = mid_scale\n",
    "            \n",
    "    return convert_color(LabColor(l_target, low_scale*a_original, low_scale*b_original,\n",
    "                                  observer=observer, illuminant=illuminant),\n",
    "                         sRGBColor)"
   ]
  },
  {
   "cell_type": "markdown",
   "metadata": {},
   "source": [
    "A function that takes an array of hues and builds a table (in a pandas dataframe) of colors adjusted for luminance."
   ]
  },
  {
   "cell_type": "code",
   "execution_count": 6,
   "metadata": {},
   "outputs": [],
   "source": [
    "def build_kindlmann_colors(hue_array):\n",
    "    table = pandas.DataFrame()\n",
    "    table['hue'] = hue_array\n",
    "    table['scalar'] = numpy.linspace(0.0, 1.0, table['hue'].size)\n",
    "    # Use the scale_hue function on each row to get the color we\n",
    "    # should use at each point.\n",
    "    color_array = table.apply(lambda row: scale_hue(row['hue'], row['scalar']),\n",
    "                              axis=1)\n",
    "    table['sRGBColor'] = color_array\n",
    "    table['RGB'] = color_array.apply(lambda rgb: rgb.get_upscaled_value_tuple())\n",
    "    table['sRGB'] = color_array.apply(lambda rgb: rgb.get_value_tuple())\n",
    "    return table"
   ]
  },
  {
   "cell_type": "markdown",
   "metadata": {},
   "source": [
    "A convenience function that takes a column of RGB triples in a pandas dataframe, unzips it, and adds three columns to the data frame with the red, green, and blue values."
   ]
  },
  {
   "cell_type": "code",
   "execution_count": 7,
   "metadata": {},
   "outputs": [],
   "source": [
    "def unzip_rgb_triple(dataframe, column='RGB'):\n",
    "    '''Given a dataframe and the name of a column holding an RGB triplet,\n",
    "    this function creates new separate columns for the R, G, and B values\n",
    "    with the same name as the original with '_r', '_g', and '_b' appended.'''\n",
    "    # Creates a data frame with separate columns for the triples in the given column\n",
    "    unzipped_rgb = pandas.DataFrame(dataframe[column].values.tolist(),\n",
    "                                    columns=['r', 'g', 'b'])\n",
    "    # Add the columns to the original data frame\n",
    "    dataframe[column + '_r'] = unzipped_rgb['r']\n",
    "    dataframe[column + '_g'] = unzipped_rgb['g']\n",
    "    dataframe[column + '_b'] = unzipped_rgb['b']"
   ]
  },
  {
   "cell_type": "markdown",
   "metadata": {},
   "source": [
    "## Create Color Map\n",
    "\n",
    "We start by creating a \"short\" map with a minimal amount of control points. These control points are placed where the RGB interpolation bends and then midway between these bends to round out the hue spin. This amounts to every 30 degrees in HSV space. Create a table starting with the scalar values and the hue angle for each one."
   ]
  },
  {
   "cell_type": "code",
   "execution_count": 8,
   "metadata": {},
   "outputs": [
    {
     "data": {
      "text/html": [
       "<div>\n",
       "<style scoped>\n",
       "    .dataframe tbody tr th:only-of-type {\n",
       "        vertical-align: middle;\n",
       "    }\n",
       "\n",
       "    .dataframe tbody tr th {\n",
       "        vertical-align: top;\n",
       "    }\n",
       "\n",
       "    .dataframe thead th {\n",
       "        text-align: right;\n",
       "    }\n",
       "</style>\n",
       "<table border=\"1\" class=\"dataframe\">\n",
       "  <thead>\n",
       "    <tr style=\"text-align: right;\">\n",
       "      <th></th>\n",
       "      <th>hue</th>\n",
       "      <th>scalar</th>\n",
       "      <th>sRGBColor</th>\n",
       "      <th>RGB</th>\n",
       "      <th>sRGB</th>\n",
       "    </tr>\n",
       "  </thead>\n",
       "  <tbody>\n",
       "    <tr>\n",
       "      <th>0</th>\n",
       "      <td>300.0</td>\n",
       "      <td>0.0</td>\n",
       "      <td>sRGBColor (rgb_r:0.0000 rgb_g:0.0000 rgb_b:0.0...</td>\n",
       "      <td>(0, 0, 0)</td>\n",
       "      <td>(0.0, 0.0, 0.0)</td>\n",
       "    </tr>\n",
       "    <tr>\n",
       "      <th>1</th>\n",
       "      <td>270.0</td>\n",
       "      <td>0.1</td>\n",
       "      <td>sRGBColor (rgb_r:0.1545 rgb_g:0.0153 rgb_b:0.3...</td>\n",
       "      <td>(39, 4, 82)</td>\n",
       "      <td>(0.15445814920619122, 0.015317263281463413, 0....</td>\n",
       "    </tr>\n",
       "    <tr>\n",
       "      <th>2</th>\n",
       "      <td>240.0</td>\n",
       "      <td>0.2</td>\n",
       "      <td>sRGBColor (rgb_r:0.0931 rgb_g:0.0304 rgb_b:0.6...</td>\n",
       "      <td>(24, 8, 163)</td>\n",
       "      <td>(0.0930823731478326, 0.030438044833523397, 0.6...</td>\n",
       "    </tr>\n",
       "    <tr>\n",
       "      <th>3</th>\n",
       "      <td>210.0</td>\n",
       "      <td>0.3</td>\n",
       "      <td>sRGBColor (rgb_r:0.0267 rgb_g:0.2700 rgb_b:0.5...</td>\n",
       "      <td>(7, 69, 142)</td>\n",
       "      <td>(0.02673348116409168, 0.2699935783887534, 0.55...</td>\n",
       "    </tr>\n",
       "    <tr>\n",
       "      <th>4</th>\n",
       "      <td>180.0</td>\n",
       "      <td>0.4</td>\n",
       "      <td>sRGBColor (rgb_r:0.0202 rgb_g:0.4134 rgb_b:0.4...</td>\n",
       "      <td>(5, 105, 105)</td>\n",
       "      <td>(0.02020289046425452, 0.4134392235922892, 0.41...</td>\n",
       "    </tr>\n",
       "    <tr>\n",
       "      <th>5</th>\n",
       "      <td>150.0</td>\n",
       "      <td>0.5</td>\n",
       "      <td>sRGBColor (rgb_r:0.0263 rgb_g:0.5384 rgb_b:0.2...</td>\n",
       "      <td>(7, 137, 66)</td>\n",
       "      <td>(0.026342728305727998, 0.5384479217607883, 0.2...</td>\n",
       "    </tr>\n",
       "    <tr>\n",
       "      <th>6</th>\n",
       "      <td>120.0</td>\n",
       "      <td>0.6</td>\n",
       "      <td>sRGBColor (rgb_r:0.0588 rgb_g:0.6588 rgb_b:0.0...</td>\n",
       "      <td>(15, 168, 8)</td>\n",
       "      <td>(0.058794558570863804, 0.6588271549701028, 0.0...</td>\n",
       "    </tr>\n",
       "    <tr>\n",
       "      <th>7</th>\n",
       "      <td>90.0</td>\n",
       "      <td>0.7</td>\n",
       "      <td>sRGBColor (rgb_r:0.3799 rgb_g:0.7574 rgb_b:0.0...</td>\n",
       "      <td>(97, 193, 9)</td>\n",
       "      <td>(0.3799030543405274, 0.757361044450288, 0.0360...</td>\n",
       "    </tr>\n",
       "    <tr>\n",
       "      <th>8</th>\n",
       "      <td>60.0</td>\n",
       "      <td>0.8</td>\n",
       "      <td>sRGBColor (rgb_r:0.8048 rgb_g:0.8038 rgb_b:0.0...</td>\n",
       "      <td>(205, 205, 10)</td>\n",
       "      <td>(0.8047902362352904, 0.8037997989252117, 0.038...</td>\n",
       "    </tr>\n",
       "    <tr>\n",
       "      <th>9</th>\n",
       "      <td>30.0</td>\n",
       "      <td>0.9</td>\n",
       "      <td>sRGBColor (rgb_r:0.9897 rgb_g:0.8639 rgb_b:0.7...</td>\n",
       "      <td>(252, 220, 200)</td>\n",
       "      <td>(0.9896863249240956, 0.8639382760545128, 0.786...</td>\n",
       "    </tr>\n",
       "    <tr>\n",
       "      <th>10</th>\n",
       "      <td>0.0</td>\n",
       "      <td>1.0</td>\n",
       "      <td>sRGBColor (rgb_r:1.0000 rgb_g:1.0000 rgb_b:1.0...</td>\n",
       "      <td>(255, 255, 255)</td>\n",
       "      <td>(1.0, 1.0, 1.0)</td>\n",
       "    </tr>\n",
       "  </tbody>\n",
       "</table>\n",
       "</div>"
      ],
      "text/plain": [
       "      hue  scalar                                          sRGBColor  \\\n",
       "0   300.0     0.0  sRGBColor (rgb_r:0.0000 rgb_g:0.0000 rgb_b:0.0...   \n",
       "1   270.0     0.1  sRGBColor (rgb_r:0.1545 rgb_g:0.0153 rgb_b:0.3...   \n",
       "2   240.0     0.2  sRGBColor (rgb_r:0.0931 rgb_g:0.0304 rgb_b:0.6...   \n",
       "3   210.0     0.3  sRGBColor (rgb_r:0.0267 rgb_g:0.2700 rgb_b:0.5...   \n",
       "4   180.0     0.4  sRGBColor (rgb_r:0.0202 rgb_g:0.4134 rgb_b:0.4...   \n",
       "5   150.0     0.5  sRGBColor (rgb_r:0.0263 rgb_g:0.5384 rgb_b:0.2...   \n",
       "6   120.0     0.6  sRGBColor (rgb_r:0.0588 rgb_g:0.6588 rgb_b:0.0...   \n",
       "7    90.0     0.7  sRGBColor (rgb_r:0.3799 rgb_g:0.7574 rgb_b:0.0...   \n",
       "8    60.0     0.8  sRGBColor (rgb_r:0.8048 rgb_g:0.8038 rgb_b:0.0...   \n",
       "9    30.0     0.9  sRGBColor (rgb_r:0.9897 rgb_g:0.8639 rgb_b:0.7...   \n",
       "10    0.0     1.0  sRGBColor (rgb_r:1.0000 rgb_g:1.0000 rgb_b:1.0...   \n",
       "\n",
       "                RGB                                               sRGB  \n",
       "0         (0, 0, 0)                                    (0.0, 0.0, 0.0)  \n",
       "1       (39, 4, 82)  (0.15445814920619122, 0.015317263281463413, 0....  \n",
       "2      (24, 8, 163)  (0.0930823731478326, 0.030438044833523397, 0.6...  \n",
       "3      (7, 69, 142)  (0.02673348116409168, 0.2699935783887534, 0.55...  \n",
       "4     (5, 105, 105)  (0.02020289046425452, 0.4134392235922892, 0.41...  \n",
       "5      (7, 137, 66)  (0.026342728305727998, 0.5384479217607883, 0.2...  \n",
       "6      (15, 168, 8)  (0.058794558570863804, 0.6588271549701028, 0.0...  \n",
       "7      (97, 193, 9)  (0.3799030543405274, 0.757361044450288, 0.0360...  \n",
       "8    (205, 205, 10)  (0.8047902362352904, 0.8037997989252117, 0.038...  \n",
       "9   (252, 220, 200)  (0.9896863249240956, 0.8639382760545128, 0.786...  \n",
       "10  (255, 255, 255)                                    (1.0, 1.0, 1.0)  "
      ]
     },
     "execution_count": 8,
     "metadata": {},
     "output_type": "execute_result"
    }
   ],
   "source": [
    "control_points = build_kindlmann_colors(\n",
    "    numpy.arange(start_hue, end_hue-0.0001, -30.0))\n",
    "control_points"
   ]
  },
  {
   "cell_type": "markdown",
   "metadata": {},
   "source": [
    "Now repeat creating this table but for a much higher resolution."
   ]
  },
  {
   "cell_type": "code",
   "execution_count": 9,
   "metadata": {},
   "outputs": [],
   "source": [
    "colors_long = build_kindlmann_colors(\n",
    "    numpy.linspace(start_hue, end_hue, 1024))"
   ]
  },
  {
   "cell_type": "markdown",
   "metadata": {},
   "source": [
    "## Plot the Color Map."
   ]
  },
  {
   "cell_type": "code",
   "execution_count": 10,
   "metadata": {},
   "outputs": [],
   "source": [
    "colors_palette = toyplot.color.Palette(colors=colors_long['sRGB'].values)\n",
    "colors_map = toyplot.color.LinearMap(palette=colors_palette,\n",
    "                                     domain_min=0, domain_max=1)"
   ]
  },
  {
   "cell_type": "code",
   "execution_count": 11,
   "metadata": {},
   "outputs": [
    {
     "data": {
      "text/html": [
       "<div class=\"toyplot\" id=\"tb80662c96b0c4a4295dbfb317715b250\" style=\"text-align:center\"><svg class=\"toyplot-canvas-Canvas\" xmlns:toyplot=\"http://www.sandia.gov/toyplot\" xmlns:xlink=\"http://www.w3.org/1999/xlink\" xmlns=\"http://www.w3.org/2000/svg\" width=\"130.0px\" height=\"300.0px\" viewBox=\"0 0 130.0 300.0\" preserveAspectRatio=\"xMidYMid meet\" style=\"background-color:transparent;border-color:#292724;border-style:none;border-width:1.0;fill:rgb(16.1%,15.3%,14.1%);fill-opacity:1.0;font-family:Helvetica;font-size:12px;opacity:1.0;stroke:rgb(16.1%,15.3%,14.1%);stroke-opacity:1.0;stroke-width:1.0\" id=\"td8b2c0efb104405ca67e345c3cb9644a\"><g class=\"toyplot-coordinates-Numberline\" id=\"tb9cb6328711843e381ff98a966efe0d2\"><clipPath id=\"t32faa846022640b181be029124965b0c\"><rect x=\"0\" y=\"-5.0\" width=\"286.0\" height=\"10.0\"></rect></clipPath><g clip-path=\"url(#t32faa846022640b181be029124965b0c)\" transform=\"translate(16.0,293.0)rotate(-90.0)\"><g class=\"toyplot-color-Map\" id=\"t65d13c29002d4c749c05d72e9688f05f\"><defs><linearGradient id=\"t1186cc8374f34845947ef6cedbc87ce9\" x1=\"0.0\" x2=\"286.0\" y1=\"0\" y2=\"0\" gradientUnits=\"userSpaceOnUse\"><stop stop-color=\"rgb(0%,0%,0%)\" stop-opacity=\"1.0\" offset=\"0.0\"></stop><stop stop-color=\"rgb(6.64%,0.323%,6.52%)\" stop-opacity=\"1.0\" offset=\"0.015873015873015872\"></stop><stop stop-color=\"rgb(10.6%,0.543%,11.3%)\" stop-opacity=\"1.0\" offset=\"0.031746031746031744\"></stop><stop stop-color=\"rgb(12.8%,0.789%,16.5%)\" stop-opacity=\"1.0\" offset=\"0.047619047619047616\"></stop><stop stop-color=\"rgb(14.1%,1.02%,21.4%)\" stop-opacity=\"1.0\" offset=\"0.06349206349206349\"></stop><stop stop-color=\"rgb(15%,1.24%,26%)\" stop-opacity=\"1.0\" offset=\"0.07936507936507936\"></stop><stop stop-color=\"rgb(15.4%,1.46%,30.5%)\" stop-opacity=\"1.0\" offset=\"0.09523809523809523\"></stop><stop stop-color=\"rgb(15.4%,1.69%,35.5%)\" stop-opacity=\"1.0\" offset=\"0.1111111111111111\"></stop><stop stop-color=\"rgb(14.9%,1.94%,40.7%)\" stop-opacity=\"1.0\" offset=\"0.12698412698412698\"></stop><stop stop-color=\"rgb(14%,2.19%,46%)\" stop-opacity=\"1.0\" offset=\"0.14285714285714285\"></stop><stop stop-color=\"rgb(12.6%,2.45%,51.3%)\" stop-opacity=\"1.0\" offset=\"0.15873015873015872\"></stop><stop stop-color=\"rgb(11%,2.69%,56.3%)\" stop-opacity=\"1.0\" offset=\"0.1746031746031746\"></stop><stop stop-color=\"rgb(9.81%,2.91%,61.1%)\" stop-opacity=\"1.0\" offset=\"0.19047619047619047\"></stop><stop stop-color=\"rgb(6.66%,3.15%,66.2%)\" stop-opacity=\"1.0\" offset=\"0.20634920634920634\"></stop><stop stop-color=\"rgb(3.32%,6.86%,68.7%)\" stop-opacity=\"1.0\" offset=\"0.2222222222222222\"></stop><stop stop-color=\"rgb(3.26%,12%,67.9%)\" stop-opacity=\"1.0\" offset=\"0.23809523809523808\"></stop><stop stop-color=\"rgb(3.16%,16.7%,65.5%)\" stop-opacity=\"1.0\" offset=\"0.25396825396825395\"></stop><stop stop-color=\"rgb(2.99%,20.8%,62.2%)\" stop-opacity=\"1.0\" offset=\"0.2698412698412698\"></stop><stop stop-color=\"rgb(2.84%,24.3%,58.7%)\" stop-opacity=\"1.0\" offset=\"0.2857142857142857\"></stop><stop stop-color=\"rgb(2.68%,27.3%,55.4%)\" stop-opacity=\"1.0\" offset=\"0.30158730158730157\"></stop><stop stop-color=\"rgb(2.5%,30%,52.3%)\" stop-opacity=\"1.0\" offset=\"0.31746031746031744\"></stop><stop stop-color=\"rgb(2.38%,32.4%,49.6%)\" stop-opacity=\"1.0\" offset=\"0.3333333333333333\"></stop><stop stop-color=\"rgb(2.28%,34.7%,47.2%)\" stop-opacity=\"1.0\" offset=\"0.3492063492063492\"></stop><stop stop-color=\"rgb(2.19%,36.9%,45.1%)\" stop-opacity=\"1.0\" offset=\"0.36507936507936506\"></stop><stop stop-color=\"rgb(2.07%,38.9%,43.3%)\" stop-opacity=\"1.0\" offset=\"0.38095238095238093\"></stop><stop stop-color=\"rgb(2.01%,40.9%,41.6%)\" stop-opacity=\"1.0\" offset=\"0.3968253968253968\"></stop><stop stop-color=\"rgb(2.05%,42.9%,40%)\" stop-opacity=\"1.0\" offset=\"0.4126984126984127\"></stop><stop stop-color=\"rgb(2.16%,44.9%,38.2%)\" stop-opacity=\"1.0\" offset=\"0.42857142857142855\"></stop><stop stop-color=\"rgb(2.26%,46.9%,36%)\" stop-opacity=\"1.0\" offset=\"0.4444444444444444\"></stop><stop stop-color=\"rgb(2.35%,48.9%,33.5%)\" stop-opacity=\"1.0\" offset=\"0.4603174603174603\"></stop><stop stop-color=\"rgb(2.47%,50.9%,30.8%)\" stop-opacity=\"1.0\" offset=\"0.47619047619047616\"></stop><stop stop-color=\"rgb(2.57%,52.9%,27.7%)\" stop-opacity=\"1.0\" offset=\"0.4920634920634921\"></stop><stop stop-color=\"rgb(2.64%,54.8%,24.3%)\" stop-opacity=\"1.0\" offset=\"0.5079365079365079\"></stop><stop stop-color=\"rgb(2.75%,56.8%,20.7%)\" stop-opacity=\"1.0\" offset=\"0.5238095238095237\"></stop><stop stop-color=\"rgb(2.82%,58.7%,16.7%)\" stop-opacity=\"1.0\" offset=\"0.5396825396825397\"></stop><stop stop-color=\"rgb(2.98%,60.6%,12.6%)\" stop-opacity=\"1.0\" offset=\"0.5555555555555556\"></stop><stop stop-color=\"rgb(3.03%,62.5%,8.28%)\" stop-opacity=\"1.0\" offset=\"0.5714285714285714\"></stop><stop stop-color=\"rgb(3.08%,64.4%,4.14%)\" stop-opacity=\"1.0\" offset=\"0.5873015873015872\"></stop><stop stop-color=\"rgb(6.38%,66.2%,3.2%)\" stop-opacity=\"1.0\" offset=\"0.6031746031746031\"></stop><stop stop-color=\"rgb(9.21%,68%,3.29%)\" stop-opacity=\"1.0\" offset=\"0.6190476190476191\"></stop><stop stop-color=\"rgb(13.6%,69.8%,3.37%)\" stop-opacity=\"1.0\" offset=\"0.6349206349206349\"></stop><stop stop-color=\"rgb(18.8%,71.4%,3.42%)\" stop-opacity=\"1.0\" offset=\"0.6507936507936507\"></stop><stop stop-color=\"rgb(24.7%,72.9%,3.51%)\" stop-opacity=\"1.0\" offset=\"0.6666666666666666\"></stop><stop stop-color=\"rgb(30.9%,74.3%,3.6%)\" stop-opacity=\"1.0\" offset=\"0.6825396825396826\"></stop><stop stop-color=\"rgb(37.3%,75.6%,3.65%)\" stop-opacity=\"1.0\" offset=\"0.6984126984126984\"></stop><stop stop-color=\"rgb(43.9%,76.7%,3.69%)\" stop-opacity=\"1.0\" offset=\"0.7142857142857142\"></stop><stop stop-color=\"rgb(50.7%,77.7%,3.78%)\" stop-opacity=\"1.0\" offset=\"0.7301587301587301\"></stop><stop stop-color=\"rgb(57.4%,78.6%,3.8%)\" stop-opacity=\"1.0\" offset=\"0.746031746031746\"></stop><stop stop-color=\"rgb(64.2%,79.3%,3.79%)\" stop-opacity=\"1.0\" offset=\"0.7619047619047619\"></stop><stop stop-color=\"rgb(71%,79.8%,3.88%)\" stop-opacity=\"1.0\" offset=\"0.7777777777777777\"></stop><stop stop-color=\"rgb(77.8%,80.2%,3.83%)\" stop-opacity=\"1.0\" offset=\"0.7936507936507936\"></stop><stop stop-color=\"rgb(84.6%,80.5%,4.08%)\" stop-opacity=\"1.0\" offset=\"0.8095238095238095\"></stop><stop stop-color=\"rgb(92.1%,80.4%,4.4%)\" stop-opacity=\"1.0\" offset=\"0.8253968253968254\"></stop><stop stop-color=\"rgb(97%,80.3%,37.8%)\" stop-opacity=\"1.0\" offset=\"0.8412698412698412\"></stop><stop stop-color=\"rgb(98%,81.5%,57.2%)\" stop-opacity=\"1.0\" offset=\"0.8571428571428571\"></stop><stop stop-color=\"rgb(98.5%,83.2%,67.6%)\" stop-opacity=\"1.0\" offset=\"0.873015873015873\"></stop><stop stop-color=\"rgb(98.8%,85%,74.7%)\" stop-opacity=\"1.0\" offset=\"0.8888888888888888\"></stop><stop stop-color=\"rgb(99%,87%,80.1%)\" stop-opacity=\"1.0\" offset=\"0.9047619047619048\"></stop><stop stop-color=\"rgb(99.3%,89.1%,84.4%)\" stop-opacity=\"1.0\" offset=\"0.9206349206349206\"></stop><stop stop-color=\"rgb(99.4%,91.2%,88.1%)\" stop-opacity=\"1.0\" offset=\"0.9365079365079364\"></stop><stop stop-color=\"rgb(99.6%,93.4%,91.4%)\" stop-opacity=\"1.0\" offset=\"0.9523809523809523\"></stop><stop stop-color=\"rgb(99.7%,95.6%,94.4%)\" stop-opacity=\"1.0\" offset=\"0.9682539682539681\"></stop><stop stop-color=\"rgb(99.9%,97.8%,97.2%)\" stop-opacity=\"1.0\" offset=\"0.9841269841269842\"></stop><stop stop-color=\"rgb(100%,100%,100%)\" stop-opacity=\"1.0\" offset=\"1.0\"></stop></linearGradient></defs><rect x=\"0.0\" y=\"-15.0\" width=\"286.0\" height=\"30\" style=\"fill:url(#t1186cc8374f34845947ef6cedbc87ce9);stroke:rgb(82.7%,82.7%,82.7%);stroke-opacity:1.0;stroke-width:1.0\"></rect></g></g><g class=\"toyplot-coordinates-Axis\" id=\"t87c088ad7afa42fba7ef525539473dd0\" transform=\"translate(16.0,293.0)rotate(-90.0)translate(0,5.0)\"><g><g transform=\"translate(0.0,6)rotate(90)\"><text x=\"15.0\" y=\"2.5549999999999997\" style=\"fill:rgb(16.1%,15.3%,14.1%);fill-opacity:1.0;font-family:helvetica;font-size:10.0px;font-weight:normal;stroke:none;vertical-align:baseline;white-space:pre\">0.00, (0, 0, 0)</text></g><g transform=\"translate(28.6,6)rotate(90)\"><text x=\"15.0\" y=\"2.5549999999999997\" style=\"fill:rgb(16.1%,15.3%,14.1%);fill-opacity:1.0;font-family:helvetica;font-size:10.0px;font-weight:normal;stroke:none;vertical-align:baseline;white-space:pre\">0.10, (39, 4, 82)</text></g><g transform=\"translate(57.2,6)rotate(90)\"><text x=\"15.0\" y=\"2.5549999999999997\" style=\"fill:rgb(16.1%,15.3%,14.1%);fill-opacity:1.0;font-family:helvetica;font-size:10.0px;font-weight:normal;stroke:none;vertical-align:baseline;white-space:pre\">0.20, (24, 8, 163)</text></g><g transform=\"translate(85.80000000000001,6)rotate(90)\"><text x=\"15.0\" y=\"2.5549999999999997\" style=\"fill:rgb(16.1%,15.3%,14.1%);fill-opacity:1.0;font-family:helvetica;font-size:10.0px;font-weight:normal;stroke:none;vertical-align:baseline;white-space:pre\">0.30, (7, 69, 142)</text></g><g transform=\"translate(114.4,6)rotate(90)\"><text x=\"15.0\" y=\"2.5549999999999997\" style=\"fill:rgb(16.1%,15.3%,14.1%);fill-opacity:1.0;font-family:helvetica;font-size:10.0px;font-weight:normal;stroke:none;vertical-align:baseline;white-space:pre\">0.40, (5, 105, 105)</text></g><g transform=\"translate(143.0,6)rotate(90)\"><text x=\"15.0\" y=\"2.5549999999999997\" style=\"fill:rgb(16.1%,15.3%,14.1%);fill-opacity:1.0;font-family:helvetica;font-size:10.0px;font-weight:normal;stroke:none;vertical-align:baseline;white-space:pre\">0.50, (7, 137, 66)</text></g><g transform=\"translate(171.60000000000002,6)rotate(90)\"><text x=\"15.0\" y=\"2.5549999999999997\" style=\"fill:rgb(16.1%,15.3%,14.1%);fill-opacity:1.0;font-family:helvetica;font-size:10.0px;font-weight:normal;stroke:none;vertical-align:baseline;white-space:pre\">0.60, (15, 168, 8)</text></g><g transform=\"translate(200.20000000000002,6)rotate(90)\"><text x=\"15.0\" y=\"2.5549999999999997\" style=\"fill:rgb(16.1%,15.3%,14.1%);fill-opacity:1.0;font-family:helvetica;font-size:10.0px;font-weight:normal;stroke:none;vertical-align:baseline;white-space:pre\">0.70, (97, 193, 9)</text></g><g transform=\"translate(228.8,6)rotate(90)\"><text x=\"15.0\" y=\"2.5549999999999997\" style=\"fill:rgb(16.1%,15.3%,14.1%);fill-opacity:1.0;font-family:helvetica;font-size:10.0px;font-weight:normal;stroke:none;vertical-align:baseline;white-space:pre\">0.80, (205, 205, 10)</text></g><g transform=\"translate(257.40000000000003,6)rotate(90)\"><text x=\"15.0\" y=\"2.5549999999999997\" style=\"fill:rgb(16.1%,15.3%,14.1%);fill-opacity:1.0;font-family:helvetica;font-size:10.0px;font-weight:normal;stroke:none;vertical-align:baseline;white-space:pre\">0.90, (252, 220, 200)</text></g><g transform=\"translate(286.0,6)rotate(90)\"><text x=\"15.0\" y=\"2.5549999999999997\" style=\"fill:rgb(16.1%,15.3%,14.1%);fill-opacity:1.0;font-family:helvetica;font-size:10.0px;font-weight:normal;stroke:none;vertical-align:baseline;white-space:pre\">1.00, (255, 255, 255)</text></g></g><g class=\"toyplot-coordinates-Axis-coordinates\" style=\"visibility:hidden\" transform=\"\"><line x1=\"0\" x2=\"0\" y1=\"-3.0\" y2=\"4.5\" style=\"stroke:rgb(43.9%,50.2%,56.5%);stroke-opacity:1.0;stroke-width:1.0\"></line><text x=\"0\" y=\"-6\" style=\"alignment-baseline:alphabetic;fill:rgb(43.9%,50.2%,56.5%);fill-opacity:1.0;font-size:10px;font-weight:normal;stroke:none;text-anchor:middle\"></text></g></g></g></svg><div class=\"toyplot-behavior\"><script>(function()\n",
       "{\n",
       "var modules={};\n",
       "modules[\"toyplot/canvas/id\"] = \"td8b2c0efb104405ca67e345c3cb9644a\";\n",
       "modules[\"toyplot/canvas\"] = (function(canvas_id)\n",
       "    {\n",
       "        return document.querySelector(\"#\" + canvas_id);\n",
       "    })(modules[\"toyplot/canvas/id\"]);\n",
       "modules[\"toyplot.coordinates.Axis\"] = (\n",
       "        function(canvas)\n",
       "        {\n",
       "            function sign(x)\n",
       "            {\n",
       "                return x < 0 ? -1 : x > 0 ? 1 : 0;\n",
       "            }\n",
       "\n",
       "            function mix(a, b, amount)\n",
       "            {\n",
       "                return ((1.0 - amount) * a) + (amount * b);\n",
       "            }\n",
       "\n",
       "            function log(x, base)\n",
       "            {\n",
       "                return Math.log(Math.abs(x)) / Math.log(base);\n",
       "            }\n",
       "\n",
       "            function in_range(a, x, b)\n",
       "            {\n",
       "                var left = Math.min(a, b);\n",
       "                var right = Math.max(a, b);\n",
       "                return left <= x && x <= right;\n",
       "            }\n",
       "\n",
       "            function inside(range, projection)\n",
       "            {\n",
       "                for(var i = 0; i != projection.length; ++i)\n",
       "                {\n",
       "                    var segment = projection[i];\n",
       "                    if(in_range(segment.range.min, range, segment.range.max))\n",
       "                        return true;\n",
       "                }\n",
       "                return false;\n",
       "            }\n",
       "\n",
       "            function to_domain(range, projection)\n",
       "            {\n",
       "                for(var i = 0; i != projection.length; ++i)\n",
       "                {\n",
       "                    var segment = projection[i];\n",
       "                    if(in_range(segment.range.bounds.min, range, segment.range.bounds.max))\n",
       "                    {\n",
       "                        if(segment.scale == \"linear\")\n",
       "                        {\n",
       "                            var amount = (range - segment.range.min) / (segment.range.max - segment.range.min);\n",
       "                            return mix(segment.domain.min, segment.domain.max, amount)\n",
       "                        }\n",
       "                        else if(segment.scale[0] == \"log\")\n",
       "                        {\n",
       "                            var amount = (range - segment.range.min) / (segment.range.max - segment.range.min);\n",
       "                            var base = segment.scale[1];\n",
       "                            return sign(segment.domain.min) * Math.pow(base, mix(log(segment.domain.min, base), log(segment.domain.max, base), amount));\n",
       "                        }\n",
       "                    }\n",
       "                }\n",
       "            }\n",
       "\n",
       "            var axes = {};\n",
       "\n",
       "            function display_coordinates(e)\n",
       "            {\n",
       "                var current = canvas.createSVGPoint();\n",
       "                current.x = e.clientX;\n",
       "                current.y = e.clientY;\n",
       "\n",
       "                for(var axis_id in axes)\n",
       "                {\n",
       "                    var axis = document.querySelector(\"#\" + axis_id);\n",
       "                    var coordinates = axis.querySelector(\".toyplot-coordinates-Axis-coordinates\");\n",
       "                    if(coordinates)\n",
       "                    {\n",
       "                        var projection = axes[axis_id];\n",
       "                        var local = current.matrixTransform(axis.getScreenCTM().inverse());\n",
       "                        if(inside(local.x, projection))\n",
       "                        {\n",
       "                            var domain = to_domain(local.x, projection);\n",
       "                            coordinates.style.visibility = \"visible\";\n",
       "                            coordinates.setAttribute(\"transform\", \"translate(\" + local.x + \")\");\n",
       "                            var text = coordinates.querySelector(\"text\");\n",
       "                            text.textContent = domain.toFixed(2);\n",
       "                        }\n",
       "                        else\n",
       "                        {\n",
       "                            coordinates.style.visibility= \"hidden\";\n",
       "                        }\n",
       "                    }\n",
       "                }\n",
       "            }\n",
       "\n",
       "            canvas.addEventListener(\"click\", display_coordinates);\n",
       "\n",
       "            var module = {};\n",
       "            module.show_coordinates = function(axis_id, projection)\n",
       "            {\n",
       "                axes[axis_id] = projection;\n",
       "            }\n",
       "\n",
       "            return module;\n",
       "        })(modules[\"toyplot/canvas\"]);\n",
       "(function(axis, axis_id, projection)\n",
       "        {\n",
       "            axis.show_coordinates(axis_id, projection);\n",
       "        })(modules[\"toyplot.coordinates.Axis\"],\"t87c088ad7afa42fba7ef525539473dd0\",[{\"domain\": {\"bounds\": {\"max\": Infinity, \"min\": -Infinity}, \"max\": 1.0, \"min\": 0.0}, \"range\": {\"bounds\": {\"max\": Infinity, \"min\": -Infinity}, \"max\": 286.0, \"min\": 0.0}, \"scale\": \"linear\"}]);\n",
       "})();</script></div></div>"
      ]
     },
     "metadata": {},
     "output_type": "display_data"
    }
   ],
   "source": [
    "canvas = toyplot.Canvas(width=130, height=300)\n",
    "numberline = canvas.numberline(x1=16, x2=16, y1=-7, y2=7)\n",
    "numberline.padding = 5\n",
    "numberline.axis.spine.show = False\n",
    "numberline.colormap(colors_map,\n",
    "                    width=30,\n",
    "                    style={'stroke':'lightgrey'})\n",
    "\n",
    "control_point_labels = \\\n",
    "    control_points.apply(lambda row: '%1.2f, %s' % (row['scalar'],\n",
    "                                                  str(row['RGB'])),\n",
    "                       axis=1)\n",
    "numberline.axis.ticks.locator = \\\n",
    "    toyplot.locator.Explicit(locations=control_points['scalar'],\n",
    "                             labels=control_point_labels)\n",
    "numberline.axis.ticks.labels.angle = -90\n",
    "numberline.axis.ticks.labels.style = {'text-anchor':'start',\n",
    "                                      'baseline-shift':'0%',\n",
    "                                      '-toyplot-anchor-shift':'15px'}"
   ]
  },
  {
   "cell_type": "code",
   "execution_count": 12,
   "metadata": {},
   "outputs": [],
   "source": [
    "toyplot.svg.render(canvas, 'kindlmann.svg')"
   ]
  },
  {
   "cell_type": "markdown",
   "metadata": {},
   "source": [
    "## Color Table Files\n",
    "\n",
    "Create a color preset file for ParaView. Since ParaView 4.4, JSON files are supported, which makes it easy to export.\n",
    "\n",
    "We are going to use a few more points than the control points listed previously to better approximate the curve of the hue spiral."
   ]
  },
  {
   "cell_type": "code",
   "execution_count": 13,
   "metadata": {},
   "outputs": [],
   "source": [
    "color_table = build_kindlmann_colors(\n",
    "    numpy.arange(start_hue, end_hue-0.0001, -30.0))\n",
    "\n",
    "RGBPoints = []\n",
    "for index in range(0, color_table.index.size):\n",
    "    RGBPoints.append(color_table['scalar'][index])\n",
    "    RGBPoints.extend(color_table['sRGB'][index])\n",
    "    \n",
    "#RGBPoints"
   ]
  },
  {
   "cell_type": "code",
   "execution_count": 14,
   "metadata": {},
   "outputs": [],
   "source": [
    "import json\n",
    "\n",
    "file_descriptor = open('kindlmann-paraview-colors.json', 'w')\n",
    "json.dump([{'ColorSpace':'Lab',\n",
    "            'Name':'Kindlmann',\n",
    "            'NanColor':[0.0,0.5,1.0],\n",
    "            'RGBPoints':RGBPoints}],\n",
    "          file_descriptor,\n",
    "          indent=2)\n",
    "file_descriptor.close()"
   ]
  },
  {
   "cell_type": "markdown",
   "metadata": {},
   "source": [
    "Create several csv files containing color tables for this color map. We will create color tables of many different sizes from 8 rows to 1024. We also write out one set of csv files for \"upscaled\" color bytes (values 0-255) and another for floating point numbers (0-1)."
   ]
  },
  {
   "cell_type": "code",
   "execution_count": 15,
   "metadata": {},
   "outputs": [],
   "source": [
    "for num_bits in range(3, 11):\n",
    "    table_length = 2 ** num_bits\n",
    "    color_table = build_kindlmann_colors(\n",
    "        numpy.linspace(start_hue, end_hue, num=table_length))\n",
    "    unzip_rgb_triple(color_table, 'RGB')\n",
    "    color_table.to_csv('kindlmann-table-byte-{:04}.csv'.format(table_length),\n",
    "                       index=False,\n",
    "                       columns=['scalar', 'RGB_r', 'RGB_g', 'RGB_b'])\n",
    "    unzip_rgb_triple(color_table, 'sRGB')\n",
    "    color_table.to_csv('kindlmann-table-float-{:04}.csv'.format(table_length),\n",
    "                       index=False,\n",
    "                       columns=['scalar', 'sRGB_r', 'sRGB_g', 'sRGB_b'],\n",
    "                       header=['scalar', 'RGB_r', 'RGB_g', 'RGB_b'])"
   ]
  },
  {
   "cell_type": "code",
   "execution_count": null,
   "metadata": {},
   "outputs": [],
   "source": []
  }
 ],
 "metadata": {
  "kernelspec": {
   "display_name": "Python 3",
   "language": "python",
   "name": "python3"
  },
  "language_info": {
   "codemirror_mode": {
    "name": "ipython",
    "version": 3
   },
   "file_extension": ".py",
   "mimetype": "text/x-python",
   "name": "python",
   "nbconvert_exporter": "python",
   "pygments_lexer": "ipython3",
   "version": "3.8.8"
  }
 },
 "nbformat": 4,
 "nbformat_minor": 1
}
