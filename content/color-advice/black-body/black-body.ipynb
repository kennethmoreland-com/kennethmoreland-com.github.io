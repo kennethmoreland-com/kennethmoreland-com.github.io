{
 "cells": [
  {
   "cell_type": "markdown",
   "metadata": {},
   "source": [
    "# Black Body Radiation Color Map"
   ]
  },
  {
   "cell_type": "markdown",
   "metadata": {},
   "source": [
    "This iPython notebook contains the script required to derive a nice color map based on the colors of black body radiation. Although the colors are inspired by the wavelengths of light from black body radiation, the actual colors used are designed to be perceptually uniform. Colors of the desired brightness and hue are chosen, and then the colors are adjusted such that the luminance is perceptually linear (according to the CIELAB color space)."
   ]
  },
  {
   "cell_type": "markdown",
   "metadata": {},
   "source": [
    "This code relies on the [python-colormath](http://python-colormath.readthedocs.org/en/latest/index.html) module. See [its documentation](http://python-colormath.readthedocs.org/en/latest/index.html) for information such as installation instructions. (It can be installed with either pip or macports.)"
   ]
  },
  {
   "cell_type": "code",
   "execution_count": 1,
   "metadata": {},
   "outputs": [],
   "source": [
    "from colormath.color_objects import *\n",
    "from colormath.color_conversions import convert_color"
   ]
  },
  {
   "cell_type": "markdown",
   "metadata": {},
   "source": [
    "Mostly because it's habit, I am also using [pandas](http://pandas.pydata.org/) dataframes to organize the data. (Pandas can be installed with macports.)"
   ]
  },
  {
   "cell_type": "code",
   "execution_count": 2,
   "metadata": {},
   "outputs": [],
   "source": [
    "import pandas\n",
    "import numpy"
   ]
  },
  {
   "cell_type": "markdown",
   "metadata": {},
   "source": [
    "We will also be using [toyplot](https://toyplot.readthedocs.org) for making visuals (version 0.10.0 or later required). See its documentation for installation instructions."
   ]
  },
  {
   "cell_type": "code",
   "execution_count": 3,
   "metadata": {},
   "outputs": [],
   "source": [
    "import toyplot\n",
    "import toyplot.svg"
   ]
  },
  {
   "cell_type": "markdown",
   "metadata": {},
   "source": [
    "This color map goes from black to red to orange to yellow to white. Create color objects for these control points."
   ]
  },
  {
   "cell_type": "code",
   "execution_count": 4,
   "metadata": {},
   "outputs": [
    {
     "data": {
      "text/html": [
       "<div>\n",
       "<style scoped>\n",
       "    .dataframe tbody tr th:only-of-type {\n",
       "        vertical-align: middle;\n",
       "    }\n",
       "\n",
       "    .dataframe tbody tr th {\n",
       "        vertical-align: top;\n",
       "    }\n",
       "\n",
       "    .dataframe thead th {\n",
       "        text-align: right;\n",
       "    }\n",
       "</style>\n",
       "<table border=\"1\" class=\"dataframe\">\n",
       "  <thead>\n",
       "    <tr style=\"text-align: right;\">\n",
       "      <th></th>\n",
       "      <th>RGB</th>\n",
       "    </tr>\n",
       "  </thead>\n",
       "  <tbody>\n",
       "    <tr>\n",
       "      <th>0</th>\n",
       "      <td>(0, 0, 0)</td>\n",
       "    </tr>\n",
       "    <tr>\n",
       "      <th>1</th>\n",
       "      <td>(178, 34, 34)</td>\n",
       "    </tr>\n",
       "    <tr>\n",
       "      <th>2</th>\n",
       "      <td>(227, 105, 5)</td>\n",
       "    </tr>\n",
       "    <tr>\n",
       "      <th>3</th>\n",
       "      <td>(230, 230, 53)</td>\n",
       "    </tr>\n",
       "    <tr>\n",
       "      <th>4</th>\n",
       "      <td>(255, 255, 255)</td>\n",
       "    </tr>\n",
       "  </tbody>\n",
       "</table>\n",
       "</div>"
      ],
      "text/plain": [
       "               RGB\n",
       "0        (0, 0, 0)\n",
       "1    (178, 34, 34)\n",
       "2    (227, 105, 5)\n",
       "3   (230, 230, 53)\n",
       "4  (255, 255, 255)"
      ]
     },
     "execution_count": 4,
     "metadata": {},
     "output_type": "execute_result"
    }
   ],
   "source": [
    "color_rgb = [(0,  0,  0  ),    # black\n",
    "             (178,34, 34 ),    # red\n",
    "             (227,105,5  ),    # orange\n",
    "             (230,230,53 ),    # yellow\n",
    "             (255,255,255)]    # white\n",
    "data = pandas.DataFrame({'RGB': color_rgb})\n",
    "data"
   ]
  },
  {
   "cell_type": "code",
   "execution_count": 5,
   "metadata": {},
   "outputs": [],
   "source": [
    "data['rgb_values'] = data['RGB'].apply(lambda rgb: sRGBColor(rgb[0], rgb[1], rgb[2],\n",
    "                                                             is_upscaled=True))"
   ]
  },
  {
   "cell_type": "markdown",
   "metadata": {},
   "source": [
    "Convert the RGB values to LAB values and get the luminance out of each of them to define the scalar (on a scale from 0 to 1) of each color."
   ]
  },
  {
   "cell_type": "code",
   "execution_count": 6,
   "metadata": {},
   "outputs": [
    {
     "data": {
      "text/html": [
       "<div>\n",
       "<style scoped>\n",
       "    .dataframe tbody tr th:only-of-type {\n",
       "        vertical-align: middle;\n",
       "    }\n",
       "\n",
       "    .dataframe tbody tr th {\n",
       "        vertical-align: top;\n",
       "    }\n",
       "\n",
       "    .dataframe thead th {\n",
       "        text-align: right;\n",
       "    }\n",
       "</style>\n",
       "<table border=\"1\" class=\"dataframe\">\n",
       "  <thead>\n",
       "    <tr style=\"text-align: right;\">\n",
       "      <th></th>\n",
       "      <th>RGB</th>\n",
       "      <th>rgb_values</th>\n",
       "      <th>lab_values</th>\n",
       "      <th>scalar</th>\n",
       "    </tr>\n",
       "  </thead>\n",
       "  <tbody>\n",
       "    <tr>\n",
       "      <th>0</th>\n",
       "      <td>(0, 0, 0)</td>\n",
       "      <td>sRGBColor (rgb_r:0.0000 rgb_g:0.0000 rgb_b:0.0...</td>\n",
       "      <td>LabColor (lab_l:0.0000 lab_a:0.0000 lab_b:0.0000)</td>\n",
       "      <td>0.000000</td>\n",
       "    </tr>\n",
       "    <tr>\n",
       "      <th>1</th>\n",
       "      <td>(178, 34, 34)</td>\n",
       "      <td>sRGBColor (rgb_r:0.6980 rgb_g:0.1333 rgb_b:0.1...</td>\n",
       "      <td>LabColor (lab_l:39.1167 lab_a:55.9150 lab_b:37...</td>\n",
       "      <td>0.391167</td>\n",
       "    </tr>\n",
       "    <tr>\n",
       "      <th>2</th>\n",
       "      <td>(227, 105, 5)</td>\n",
       "      <td>sRGBColor (rgb_r:0.8902 rgb_g:0.4118 rgb_b:0.0...</td>\n",
       "      <td>LabColor (lab_l:58.4605 lab_a:43.3378 lab_b:65...</td>\n",
       "      <td>0.584605</td>\n",
       "    </tr>\n",
       "    <tr>\n",
       "      <th>3</th>\n",
       "      <td>(230, 230, 53)</td>\n",
       "      <td>sRGBColor (rgb_r:0.9020 rgb_g:0.9020 rgb_b:0.2...</td>\n",
       "      <td>LabColor (lab_l:88.7685 lab_a:-18.9553 lab_b:7...</td>\n",
       "      <td>0.887685</td>\n",
       "    </tr>\n",
       "    <tr>\n",
       "      <th>4</th>\n",
       "      <td>(255, 255, 255)</td>\n",
       "      <td>sRGBColor (rgb_r:1.0000 rgb_g:1.0000 rgb_b:1.0...</td>\n",
       "      <td>LabColor (lab_l:100.0000 lab_a:-0.0005 lab_b:-...</td>\n",
       "      <td>1.000000</td>\n",
       "    </tr>\n",
       "  </tbody>\n",
       "</table>\n",
       "</div>"
      ],
      "text/plain": [
       "               RGB                                         rgb_values  \\\n",
       "0        (0, 0, 0)  sRGBColor (rgb_r:0.0000 rgb_g:0.0000 rgb_b:0.0...   \n",
       "1    (178, 34, 34)  sRGBColor (rgb_r:0.6980 rgb_g:0.1333 rgb_b:0.1...   \n",
       "2    (227, 105, 5)  sRGBColor (rgb_r:0.8902 rgb_g:0.4118 rgb_b:0.0...   \n",
       "3   (230, 230, 53)  sRGBColor (rgb_r:0.9020 rgb_g:0.9020 rgb_b:0.2...   \n",
       "4  (255, 255, 255)  sRGBColor (rgb_r:1.0000 rgb_g:1.0000 rgb_b:1.0...   \n",
       "\n",
       "                                          lab_values    scalar  \n",
       "0  LabColor (lab_l:0.0000 lab_a:0.0000 lab_b:0.0000)  0.000000  \n",
       "1  LabColor (lab_l:39.1167 lab_a:55.9150 lab_b:37...  0.391167  \n",
       "2  LabColor (lab_l:58.4605 lab_a:43.3378 lab_b:65...  0.584605  \n",
       "3  LabColor (lab_l:88.7685 lab_a:-18.9553 lab_b:7...  0.887685  \n",
       "4  LabColor (lab_l:100.0000 lab_a:-0.0005 lab_b:-...  1.000000  "
      ]
     },
     "execution_count": 6,
     "metadata": {},
     "output_type": "execute_result"
    }
   ],
   "source": [
    "data['lab_values'] = data['rgb_values'].apply(lambda rgb: convert_color(rgb, LabColor))\n",
    "data['scalar'] = data['lab_values'].apply(lambda lab: lab.lab_l/100.0)\n",
    "data"
   ]
  },
  {
   "cell_type": "markdown",
   "metadata": {},
   "source": [
    "Make a summary table of just the control points."
   ]
  },
  {
   "cell_type": "code",
   "execution_count": 7,
   "metadata": {},
   "outputs": [
    {
     "data": {
      "text/html": [
       "<div>\n",
       "<style scoped>\n",
       "    .dataframe tbody tr th:only-of-type {\n",
       "        vertical-align: middle;\n",
       "    }\n",
       "\n",
       "    .dataframe tbody tr th {\n",
       "        vertical-align: top;\n",
       "    }\n",
       "\n",
       "    .dataframe thead th {\n",
       "        text-align: right;\n",
       "    }\n",
       "</style>\n",
       "<table border=\"1\" class=\"dataframe\">\n",
       "  <thead>\n",
       "    <tr style=\"text-align: right;\">\n",
       "      <th></th>\n",
       "      <th>scalar</th>\n",
       "      <th>RGB</th>\n",
       "    </tr>\n",
       "  </thead>\n",
       "  <tbody>\n",
       "    <tr>\n",
       "      <th>0</th>\n",
       "      <td>0.000000</td>\n",
       "      <td>(0, 0, 0)</td>\n",
       "    </tr>\n",
       "    <tr>\n",
       "      <th>1</th>\n",
       "      <td>0.391167</td>\n",
       "      <td>(178, 34, 34)</td>\n",
       "    </tr>\n",
       "    <tr>\n",
       "      <th>2</th>\n",
       "      <td>0.584605</td>\n",
       "      <td>(227, 105, 5)</td>\n",
       "    </tr>\n",
       "    <tr>\n",
       "      <th>3</th>\n",
       "      <td>0.887685</td>\n",
       "      <td>(230, 230, 53)</td>\n",
       "    </tr>\n",
       "    <tr>\n",
       "      <th>4</th>\n",
       "      <td>1.000000</td>\n",
       "      <td>(255, 255, 255)</td>\n",
       "    </tr>\n",
       "  </tbody>\n",
       "</table>\n",
       "</div>"
      ],
      "text/plain": [
       "     scalar              RGB\n",
       "0  0.000000        (0, 0, 0)\n",
       "1  0.391167    (178, 34, 34)\n",
       "2  0.584605    (227, 105, 5)\n",
       "3  0.887685   (230, 230, 53)\n",
       "4  1.000000  (255, 255, 255)"
      ]
     },
     "execution_count": 7,
     "metadata": {},
     "output_type": "execute_result"
    }
   ],
   "source": [
    "control_points = pandas.DataFrame(data, columns=['scalar', 'RGB'])\n",
    "control_points"
   ]
  },
  {
   "cell_type": "markdown",
   "metadata": {},
   "source": [
    "Make a function that will take a scalar value (in the range of 0 and 1) and return the appropriate RGB triple."
   ]
  },
  {
   "cell_type": "code",
   "execution_count": 8,
   "metadata": {},
   "outputs": [],
   "source": [
    "def color_lookup_upscaled(x):\n",
    "    if x < 0:\n",
    "        return (0, 0, 0)\n",
    "    for index in range(0, data.index.size-1):\n",
    "        low_scalar = data['scalar'][index]\n",
    "        high_scalar = data['scalar'][index+1]\n",
    "        if (x > high_scalar):\n",
    "            continue\n",
    "        low_lab = data['lab_values'][index]\n",
    "        high_lab = data['lab_values'][index+1]\n",
    "        interp = (x-low_scalar)/(high_scalar-low_scalar)\n",
    "        mid_lab = LabColor(interp*(high_lab.lab_l-low_lab.lab_l) + low_lab.lab_l,\n",
    "                           interp*(high_lab.lab_a-low_lab.lab_a) + low_lab.lab_a,\n",
    "                           interp*(high_lab.lab_b-low_lab.lab_b) + low_lab.lab_b,\n",
    "                           observer=low_lab.observer,\n",
    "                           illuminant=low_lab.illuminant)\n",
    "        return convert_color(mid_lab, sRGBColor).get_upscaled_value_tuple()\n",
    "    return (255, 255, 255)\n",
    "\n",
    "def color_lookup(x):\n",
    "    if x < 0:\n",
    "        return (0.0, 0.0, 0.0)\n",
    "    for index in range(0, data.index.size-1):\n",
    "        low_scalar = data['scalar'][index]\n",
    "        high_scalar = data['scalar'][index+1]\n",
    "        if (x > high_scalar):\n",
    "            continue\n",
    "        low_lab = data['lab_values'][index]\n",
    "        high_lab = data['lab_values'][index+1]\n",
    "        interp = (x-low_scalar)/(high_scalar-low_scalar)\n",
    "        mid_lab = LabColor(interp*(high_lab.lab_l-low_lab.lab_l) + low_lab.lab_l,\n",
    "                           interp*(high_lab.lab_a-low_lab.lab_a) + low_lab.lab_a,\n",
    "                           interp*(high_lab.lab_b-low_lab.lab_b) + low_lab.lab_b,\n",
    "                           observer=low_lab.observer,\n",
    "                           illuminant=low_lab.illuminant)\n",
    "        return convert_color(mid_lab, sRGBColor).get_value_tuple()\n",
    "    return (1.0, 1.0, 1.0)"
   ]
  },
  {
   "cell_type": "markdown",
   "metadata": {},
   "source": [
    "Make a long table of colors. This is a very high resolution table of colors that can be easily trimmed down with regular sampling."
   ]
  },
  {
   "cell_type": "code",
   "execution_count": 9,
   "metadata": {},
   "outputs": [],
   "source": [
    "colors_long = pandas.DataFrame({'scalar': numpy.linspace(0.0, 1.0, num=1024)})\n",
    "colors_long['RGB'] = colors_long['scalar'].apply(color_lookup_upscaled)\n",
    "colors_long['sRGB'] = colors_long['scalar'].apply(color_lookup)"
   ]
  },
  {
   "cell_type": "markdown",
   "metadata": {},
   "source": [
    "The colors are all stored as tuples in a single column. This is convenient for some operations, but not others. Thus, also create separate columns for the three RGB components."
   ]
  },
  {
   "cell_type": "code",
   "execution_count": 10,
   "metadata": {},
   "outputs": [],
   "source": [
    "def unzip_rgb_triple(dataframe, column='RGB'):\n",
    "    '''Given a dataframe and the name of a column holding an RGB triplet,\n",
    "    this function creates new separate columns for the R, G, and B values\n",
    "    with the same name as the original with '_r', '_g', and '_b' appended.'''\n",
    "    # Creates a data frame with separate columns for the triples in the given column\n",
    "    unzipped_rgb = pandas.DataFrame(dataframe[column].values.tolist(),\n",
    "                                    columns=['r', 'g', 'b'])\n",
    "    # Add the columns to the original data frame\n",
    "    dataframe[column + '_r'] = unzipped_rgb['r']\n",
    "    dataframe[column + '_g'] = unzipped_rgb['g']\n",
    "    dataframe[column + '_b'] = unzipped_rgb['b']\n",
    "\n",
    "unzip_rgb_triple(control_points, 'RGB')\n",
    "unzip_rgb_triple(colors_long, 'RGB')\n",
    "unzip_rgb_triple(colors_long, 'sRGB')"
   ]
  },
  {
   "cell_type": "markdown",
   "metadata": {},
   "source": [
    "Check to make sure that all the colors are actually valid. The answer to this sum should be 0 if all the values are valid."
   ]
  },
  {
   "cell_type": "code",
   "execution_count": 11,
   "metadata": {},
   "outputs": [],
   "source": [
    "invalid = ((colors_long['sRGB_r'] < 0) | (colors_long['sRGB_r'] > 1) |\n",
    "           (colors_long['sRGB_g'] < 0) | (colors_long['sRGB_g'] > 1) |\n",
    "           (colors_long['sRGB_b'] < 0) | (colors_long['sRGB_b'] > 1))\n",
    "num_bad_values = invalid.sum()\n",
    "if num_bad_values > 0:\n",
    "    raise ValueError('Found %d invalid colors!!!!' % num_bad_values)"
   ]
  },
  {
   "cell_type": "code",
   "execution_count": 12,
   "metadata": {},
   "outputs": [
    {
     "data": {
      "text/html": [
       "<div>\n",
       "<style scoped>\n",
       "    .dataframe tbody tr th:only-of-type {\n",
       "        vertical-align: middle;\n",
       "    }\n",
       "\n",
       "    .dataframe tbody tr th {\n",
       "        vertical-align: top;\n",
       "    }\n",
       "\n",
       "    .dataframe thead th {\n",
       "        text-align: right;\n",
       "    }\n",
       "</style>\n",
       "<table border=\"1\" class=\"dataframe\">\n",
       "  <thead>\n",
       "    <tr style=\"text-align: right;\">\n",
       "      <th></th>\n",
       "      <th>scalar</th>\n",
       "      <th>RGB</th>\n",
       "      <th>sRGB</th>\n",
       "      <th>RGB_r</th>\n",
       "      <th>RGB_g</th>\n",
       "      <th>RGB_b</th>\n",
       "      <th>sRGB_r</th>\n",
       "      <th>sRGB_g</th>\n",
       "      <th>sRGB_b</th>\n",
       "    </tr>\n",
       "  </thead>\n",
       "  <tbody>\n",
       "  </tbody>\n",
       "</table>\n",
       "</div>"
      ],
      "text/plain": [
       "Empty DataFrame\n",
       "Columns: [scalar, RGB, sRGB, RGB_r, RGB_g, RGB_b, sRGB_r, sRGB_g, sRGB_b]\n",
       "Index: []"
      ]
     },
     "execution_count": 12,
     "metadata": {},
     "output_type": "execute_result"
    }
   ],
   "source": [
    "colors_long[invalid]"
   ]
  },
  {
   "cell_type": "markdown",
   "metadata": {},
   "source": [
    "Plot out the color map."
   ]
  },
  {
   "cell_type": "code",
   "execution_count": 13,
   "metadata": {},
   "outputs": [],
   "source": [
    "colors_palette = toyplot.color.Palette(colors=colors_long['sRGB'].values)\n",
    "colors_map = toyplot.color.LinearMap(palette=colors_palette,\n",
    "                                     domain_min=0, domain_max=1)"
   ]
  },
  {
   "cell_type": "code",
   "execution_count": 14,
   "metadata": {},
   "outputs": [
    {
     "data": {
      "text/html": [
       "<div class=\"toyplot\" id=\"t3c797d44f4104abdb9a6560ba982f283\" style=\"text-align:center\"><svg class=\"toyplot-canvas-Canvas\" xmlns:toyplot=\"http://www.sandia.gov/toyplot\" xmlns:xlink=\"http://www.w3.org/1999/xlink\" xmlns=\"http://www.w3.org/2000/svg\" width=\"130.0px\" height=\"300.0px\" viewBox=\"0 0 130.0 300.0\" preserveAspectRatio=\"xMidYMid meet\" style=\"background-color:transparent;border-color:#292724;border-style:none;border-width:1.0;fill:rgb(16.1%,15.3%,14.1%);fill-opacity:1.0;font-family:Helvetica;font-size:12px;opacity:1.0;stroke:rgb(16.1%,15.3%,14.1%);stroke-opacity:1.0;stroke-width:1.0\" id=\"t001fa241c1a4498685177a8b1a754f1c\"><g class=\"toyplot-coordinates-Numberline\" id=\"ta2f476f8f70d4713b6cd50398204ec81\"><clipPath id=\"t010a8f46fafa40b5bc151206053cf68c\"><rect x=\"0\" y=\"-5.0\" width=\"286.0\" height=\"10.0\"></rect></clipPath><g clip-path=\"url(#t010a8f46fafa40b5bc151206053cf68c)\" transform=\"translate(16.0,293.0)rotate(-90.0)\"><g class=\"toyplot-color-Map\" id=\"t4ecee6af3432461689b60f25f0f322a0\"><defs><linearGradient id=\"tc2c6dadc26aa4e62a2d9ac8c187a1253\" x1=\"0.0\" x2=\"286.0\" y1=\"0\" y2=\"0\" gradientUnits=\"userSpaceOnUse\"><stop stop-color=\"rgb(0%,0%,0%)\" stop-opacity=\"1.0\" offset=\"0.0\"></stop><stop stop-color=\"rgb(5.16%,1.52%,0.851%)\" stop-opacity=\"1.0\" offset=\"0.015873015873015872\"></stop><stop stop-color=\"rgb(8.73%,3.04%,1.7%)\" stop-opacity=\"1.0\" offset=\"0.031746031746031744\"></stop><stop stop-color=\"rgb(11.4%,4.53%,2.55%)\" stop-opacity=\"1.0\" offset=\"0.047619047619047616\"></stop><stop stop-color=\"rgb(13.5%,5.8%,3.41%)\" stop-opacity=\"1.0\" offset=\"0.06349206349206349\"></stop><stop stop-color=\"rgb(15.8%,6.65%,4.27%)\" stop-opacity=\"1.0\" offset=\"0.07936507936507936\"></stop><stop stop-color=\"rgb(18.2%,7.25%,5.06%)\" stop-opacity=\"1.0\" offset=\"0.09523809523809523\"></stop><stop stop-color=\"rgb(20.6%,7.81%,5.75%)\" stop-opacity=\"1.0\" offset=\"0.1111111111111111\"></stop><stop stop-color=\"rgb(23.1%,8.35%,6.36%)\" stop-opacity=\"1.0\" offset=\"0.12698412698412698\"></stop><stop stop-color=\"rgb(25.7%,8.86%,6.9%)\" stop-opacity=\"1.0\" offset=\"0.14285714285714285\"></stop><stop stop-color=\"rgb(28.3%,9.35%,7.39%)\" stop-opacity=\"1.0\" offset=\"0.15873015873015872\"></stop><stop stop-color=\"rgb(30.9%,9.8%,7.83%)\" stop-opacity=\"1.0\" offset=\"0.1746031746031746\"></stop><stop stop-color=\"rgb(33.6%,10.2%,8.24%)\" stop-opacity=\"1.0\" offset=\"0.19047619047619047\"></stop><stop stop-color=\"rgb(36.3%,10.6%,8.64%)\" stop-opacity=\"1.0\" offset=\"0.20634920634920634\"></stop><stop stop-color=\"rgb(39%,11%,9.04%)\" stop-opacity=\"1.0\" offset=\"0.2222222222222222\"></stop><stop stop-color=\"rgb(41.8%,11.4%,9.45%)\" stop-opacity=\"1.0\" offset=\"0.23809523809523808\"></stop><stop stop-color=\"rgb(44.6%,11.7%,9.85%)\" stop-opacity=\"1.0\" offset=\"0.25396825396825395\"></stop><stop stop-color=\"rgb(47.4%,12%,10.3%)\" stop-opacity=\"1.0\" offset=\"0.2698412698412698\"></stop><stop stop-color=\"rgb(50.2%,12.3%,10.7%)\" stop-opacity=\"1.0\" offset=\"0.2857142857142857\"></stop><stop stop-color=\"rgb(53.1%,12.5%,11.1%)\" stop-opacity=\"1.0\" offset=\"0.30158730158730157\"></stop><stop stop-color=\"rgb(56%,12.7%,11.5%)\" stop-opacity=\"1.0\" offset=\"0.31746031746031744\"></stop><stop stop-color=\"rgb(58.9%,12.9%,11.9%)\" stop-opacity=\"1.0\" offset=\"0.3333333333333333\"></stop><stop stop-color=\"rgb(61.9%,13.1%,12.3%)\" stop-opacity=\"1.0\" offset=\"0.3492063492063492\"></stop><stop stop-color=\"rgb(64.9%,13.2%,12.7%)\" stop-opacity=\"1.0\" offset=\"0.36507936507936506\"></stop><stop stop-color=\"rgb(67.9%,13.3%,13.1%)\" stop-opacity=\"1.0\" offset=\"0.38095238095238093\"></stop><stop stop-color=\"rgb(70.4%,14.4%,13.2%)\" stop-opacity=\"1.0\" offset=\"0.3968253968253968\"></stop><stop stop-color=\"rgb(72%,17.2%,12.8%)\" stop-opacity=\"1.0\" offset=\"0.4126984126984127\"></stop><stop stop-color=\"rgb(73.5%,19.8%,12.4%)\" stop-opacity=\"1.0\" offset=\"0.42857142857142855\"></stop><stop stop-color=\"rgb(75.1%,22.3%,12%)\" stop-opacity=\"1.0\" offset=\"0.4444444444444444\"></stop><stop stop-color=\"rgb(76.7%,24.6%,11.4%)\" stop-opacity=\"1.0\" offset=\"0.4603174603174603\"></stop><stop stop-color=\"rgb(78.3%,26.8%,10.8%)\" stop-opacity=\"1.0\" offset=\"0.47619047619047616\"></stop><stop stop-color=\"rgb(79.8%,29%,10.1%)\" stop-opacity=\"1.0\" offset=\"0.4920634920634921\"></stop><stop stop-color=\"rgb(81.4%,31.2%,9.25%)\" stop-opacity=\"1.0\" offset=\"0.5079365079365079\"></stop><stop stop-color=\"rgb(83%,33.3%,8.28%)\" stop-opacity=\"1.0\" offset=\"0.5238095238095237\"></stop><stop stop-color=\"rgb(84.6%,35.4%,7.12%)\" stop-opacity=\"1.0\" offset=\"0.5396825396825397\"></stop><stop stop-color=\"rgb(86.1%,37.4%,5.69%)\" stop-opacity=\"1.0\" offset=\"0.5555555555555556\"></stop><stop stop-color=\"rgb(87.7%,39.5%,3.82%)\" stop-opacity=\"1.0\" offset=\"0.5714285714285714\"></stop><stop stop-color=\"rgb(89.1%,41.7%,2.1%)\" stop-opacity=\"1.0\" offset=\"0.5873015873015872\"></stop><stop stop-color=\"rgb(89.4%,44.6%,2.98%)\" stop-opacity=\"1.0\" offset=\"0.6031746031746031\"></stop><stop stop-color=\"rgb(89.8%,47.4%,3.99%)\" stop-opacity=\"1.0\" offset=\"0.6190476190476191\"></stop><stop stop-color=\"rgb(90.1%,50.1%,5.04%)\" stop-opacity=\"1.0\" offset=\"0.6349206349206349\"></stop><stop stop-color=\"rgb(90.4%,52.8%,6.06%)\" stop-opacity=\"1.0\" offset=\"0.6507936507936507\"></stop><stop stop-color=\"rgb(90.6%,55.4%,7.07%)\" stop-opacity=\"1.0\" offset=\"0.6666666666666666\"></stop><stop stop-color=\"rgb(90.8%,58%,8.07%)\" stop-opacity=\"1.0\" offset=\"0.6825396825396826\"></stop><stop stop-color=\"rgb(91%,60.6%,9.06%)\" stop-opacity=\"1.0\" offset=\"0.6984126984126984\"></stop><stop stop-color=\"rgb(91.1%,63.2%,10%)\" stop-opacity=\"1.0\" offset=\"0.7142857142857142\"></stop><stop stop-color=\"rgb(91.2%,65.7%,11%)\" stop-opacity=\"1.0\" offset=\"0.7301587301587301\"></stop><stop stop-color=\"rgb(91.3%,68.2%,12%)\" stop-opacity=\"1.0\" offset=\"0.746031746031746\"></stop><stop stop-color=\"rgb(91.3%,70.7%,13%)\" stop-opacity=\"1.0\" offset=\"0.7619047619047619\"></stop><stop stop-color=\"rgb(91.3%,73.2%,14%)\" stop-opacity=\"1.0\" offset=\"0.7777777777777777\"></stop><stop stop-color=\"rgb(91.3%,75.7%,14.9%)\" stop-opacity=\"1.0\" offset=\"0.7936507936507936\"></stop><stop stop-color=\"rgb(91.2%,78.1%,15.9%)\" stop-opacity=\"1.0\" offset=\"0.8095238095238095\"></stop><stop stop-color=\"rgb(91.1%,80.6%,16.9%)\" stop-opacity=\"1.0\" offset=\"0.8253968253968254\"></stop><stop stop-color=\"rgb(90.9%,83.1%,17.9%)\" stop-opacity=\"1.0\" offset=\"0.8412698412698412\"></stop><stop stop-color=\"rgb(90.7%,85.5%,18.9%)\" stop-opacity=\"1.0\" offset=\"0.8571428571428571\"></stop><stop stop-color=\"rgb(90.5%,87.9%,19.9%)\" stop-opacity=\"1.0\" offset=\"0.873015873015873\"></stop><stop stop-color=\"rgb(90.4%,90.3%,22.1%)\" stop-opacity=\"1.0\" offset=\"0.8888888888888888\"></stop><stop stop-color=\"rgb(92.8%,91.6%,36.2%)\" stop-opacity=\"1.0\" offset=\"0.9047619047619048\"></stop><stop stop-color=\"rgb(94.9%,92.9%,47.8%)\" stop-opacity=\"1.0\" offset=\"0.9206349206349206\"></stop><stop stop-color=\"rgb(96.7%,94.3%,58.7%)\" stop-opacity=\"1.0\" offset=\"0.9365079365079364\"></stop><stop stop-color=\"rgb(98.1%,95.7%,69.1%)\" stop-opacity=\"1.0\" offset=\"0.9523809523809523\"></stop><stop stop-color=\"rgb(99.1%,97.1%,79.4%)\" stop-opacity=\"1.0\" offset=\"0.9682539682539681\"></stop><stop stop-color=\"rgb(99.8%,98.5%,89.7%)\" stop-opacity=\"1.0\" offset=\"0.9841269841269842\"></stop><stop stop-color=\"rgb(100%,100%,100%)\" stop-opacity=\"1.0\" offset=\"1.0\"></stop></linearGradient></defs><rect x=\"0.0\" y=\"-15.0\" width=\"286.0\" height=\"30\" style=\"fill:url(#tc2c6dadc26aa4e62a2d9ac8c187a1253);stroke:rgb(82.7%,82.7%,82.7%);stroke-opacity:1.0;stroke-width:1.0\"></rect></g></g><g class=\"toyplot-coordinates-Axis\" id=\"ted469cb1b9e641918c7413130a1c4993\" transform=\"translate(16.0,293.0)rotate(-90.0)translate(0,5.0)\"><g><g transform=\"translate(0.0,6)rotate(90)\"><text x=\"15.0\" y=\"2.5549999999999997\" style=\"fill:rgb(16.1%,15.3%,14.1%);fill-opacity:1.0;font-family:helvetica;font-size:10.0px;font-weight:normal;stroke:none;vertical-align:baseline;white-space:pre\">0.00, (0, 0, 0)</text></g><g transform=\"translate(111.87372929302238,6)rotate(90)\"><text x=\"15.0\" y=\"2.5549999999999997\" style=\"fill:rgb(16.1%,15.3%,14.1%);fill-opacity:1.0;font-family:helvetica;font-size:10.0px;font-weight:normal;stroke:none;vertical-align:baseline;white-space:pre\">0.39, (178, 34, 34)</text></g><g transform=\"translate(167.19712416516177,6)rotate(90)\"><text x=\"15.0\" y=\"2.5549999999999997\" style=\"fill:rgb(16.1%,15.3%,14.1%);fill-opacity:1.0;font-family:helvetica;font-size:10.0px;font-weight:normal;stroke:none;vertical-align:baseline;white-space:pre\">0.58, (227, 105, 5)</text></g><g transform=\"translate(253.87797649849458,6)rotate(90)\"><text x=\"15.0\" y=\"2.5549999999999997\" style=\"fill:rgb(16.1%,15.3%,14.1%);fill-opacity:1.0;font-family:helvetica;font-size:10.0px;font-weight:normal;stroke:none;vertical-align:baseline;white-space:pre\">0.89, (230, 230, 53)</text></g><g transform=\"translate(285.99995576532746,6)rotate(90)\"><text x=\"15.0\" y=\"2.5549999999999997\" style=\"fill:rgb(16.1%,15.3%,14.1%);fill-opacity:1.0;font-family:helvetica;font-size:10.0px;font-weight:normal;stroke:none;vertical-align:baseline;white-space:pre\">1.00, (255, 255, 255)</text></g></g><g class=\"toyplot-coordinates-Axis-coordinates\" style=\"visibility:hidden\" transform=\"\"><line x1=\"0\" x2=\"0\" y1=\"-3.0\" y2=\"4.5\" style=\"stroke:rgb(43.9%,50.2%,56.5%);stroke-opacity:1.0;stroke-width:1.0\"></line><text x=\"0\" y=\"-6\" style=\"alignment-baseline:alphabetic;fill:rgb(43.9%,50.2%,56.5%);fill-opacity:1.0;font-size:10px;font-weight:normal;stroke:none;text-anchor:middle\"></text></g></g></g></svg><div class=\"toyplot-behavior\"><script>(function()\n",
       "{\n",
       "var modules={};\n",
       "modules[\"toyplot/canvas/id\"] = \"t001fa241c1a4498685177a8b1a754f1c\";\n",
       "modules[\"toyplot/canvas\"] = (function(canvas_id)\n",
       "    {\n",
       "        return document.querySelector(\"#\" + canvas_id);\n",
       "    })(modules[\"toyplot/canvas/id\"]);\n",
       "modules[\"toyplot.coordinates.Axis\"] = (\n",
       "        function(canvas)\n",
       "        {\n",
       "            function sign(x)\n",
       "            {\n",
       "                return x < 0 ? -1 : x > 0 ? 1 : 0;\n",
       "            }\n",
       "\n",
       "            function mix(a, b, amount)\n",
       "            {\n",
       "                return ((1.0 - amount) * a) + (amount * b);\n",
       "            }\n",
       "\n",
       "            function log(x, base)\n",
       "            {\n",
       "                return Math.log(Math.abs(x)) / Math.log(base);\n",
       "            }\n",
       "\n",
       "            function in_range(a, x, b)\n",
       "            {\n",
       "                var left = Math.min(a, b);\n",
       "                var right = Math.max(a, b);\n",
       "                return left <= x && x <= right;\n",
       "            }\n",
       "\n",
       "            function inside(range, projection)\n",
       "            {\n",
       "                for(var i = 0; i != projection.length; ++i)\n",
       "                {\n",
       "                    var segment = projection[i];\n",
       "                    if(in_range(segment.range.min, range, segment.range.max))\n",
       "                        return true;\n",
       "                }\n",
       "                return false;\n",
       "            }\n",
       "\n",
       "            function to_domain(range, projection)\n",
       "            {\n",
       "                for(var i = 0; i != projection.length; ++i)\n",
       "                {\n",
       "                    var segment = projection[i];\n",
       "                    if(in_range(segment.range.bounds.min, range, segment.range.bounds.max))\n",
       "                    {\n",
       "                        if(segment.scale == \"linear\")\n",
       "                        {\n",
       "                            var amount = (range - segment.range.min) / (segment.range.max - segment.range.min);\n",
       "                            return mix(segment.domain.min, segment.domain.max, amount)\n",
       "                        }\n",
       "                        else if(segment.scale[0] == \"log\")\n",
       "                        {\n",
       "                            var amount = (range - segment.range.min) / (segment.range.max - segment.range.min);\n",
       "                            var base = segment.scale[1];\n",
       "                            return sign(segment.domain.min) * Math.pow(base, mix(log(segment.domain.min, base), log(segment.domain.max, base), amount));\n",
       "                        }\n",
       "                    }\n",
       "                }\n",
       "            }\n",
       "\n",
       "            var axes = {};\n",
       "\n",
       "            function display_coordinates(e)\n",
       "            {\n",
       "                var current = canvas.createSVGPoint();\n",
       "                current.x = e.clientX;\n",
       "                current.y = e.clientY;\n",
       "\n",
       "                for(var axis_id in axes)\n",
       "                {\n",
       "                    var axis = document.querySelector(\"#\" + axis_id);\n",
       "                    var coordinates = axis.querySelector(\".toyplot-coordinates-Axis-coordinates\");\n",
       "                    if(coordinates)\n",
       "                    {\n",
       "                        var projection = axes[axis_id];\n",
       "                        var local = current.matrixTransform(axis.getScreenCTM().inverse());\n",
       "                        if(inside(local.x, projection))\n",
       "                        {\n",
       "                            var domain = to_domain(local.x, projection);\n",
       "                            coordinates.style.visibility = \"visible\";\n",
       "                            coordinates.setAttribute(\"transform\", \"translate(\" + local.x + \")\");\n",
       "                            var text = coordinates.querySelector(\"text\");\n",
       "                            text.textContent = domain.toFixed(2);\n",
       "                        }\n",
       "                        else\n",
       "                        {\n",
       "                            coordinates.style.visibility= \"hidden\";\n",
       "                        }\n",
       "                    }\n",
       "                }\n",
       "            }\n",
       "\n",
       "            canvas.addEventListener(\"click\", display_coordinates);\n",
       "\n",
       "            var module = {};\n",
       "            module.show_coordinates = function(axis_id, projection)\n",
       "            {\n",
       "                axes[axis_id] = projection;\n",
       "            }\n",
       "\n",
       "            return module;\n",
       "        })(modules[\"toyplot/canvas\"]);\n",
       "(function(axis, axis_id, projection)\n",
       "        {\n",
       "            axis.show_coordinates(axis_id, projection);\n",
       "        })(modules[\"toyplot.coordinates.Axis\"],\"ted469cb1b9e641918c7413130a1c4993\",[{\"domain\": {\"bounds\": {\"max\": Infinity, \"min\": -Infinity}, \"max\": 1.0, \"min\": 0.0}, \"range\": {\"bounds\": {\"max\": Infinity, \"min\": -Infinity}, \"max\": 286.0, \"min\": 0.0}, \"scale\": \"linear\"}]);\n",
       "})();</script></div></div>"
      ]
     },
     "metadata": {},
     "output_type": "display_data"
    }
   ],
   "source": [
    "canvas = toyplot.Canvas(width=130, height=300)\n",
    "numberline = canvas.numberline(x1=16, x2=16, y1=-7, y2=7)\n",
    "numberline.padding = 5\n",
    "numberline.axis.spine.show = False\n",
    "numberline.colormap(colors_map,\n",
    "                    width=30,\n",
    "                    style={'stroke':'lightgrey'})\n",
    "\n",
    "control_point_labels = \\\n",
    "    control_points.apply(lambda row: '%1.2f, %s' % (row['scalar'],\n",
    "                                                  str(row['RGB'])),\n",
    "                       axis=1)\n",
    "numberline.axis.ticks.locator = \\\n",
    "    toyplot.locator.Explicit(locations=control_points['scalar'],\n",
    "                             labels=control_point_labels)\n",
    "numberline.axis.ticks.labels.angle = -90\n",
    "numberline.axis.ticks.labels.style = {'text-anchor':'start',\n",
    "                                      'baseline-shift':'0%',\n",
    "                                      '-toyplot-anchor-shift':'15px'}"
   ]
  },
  {
   "cell_type": "code",
   "execution_count": 15,
   "metadata": {},
   "outputs": [],
   "source": [
    "toyplot.svg.render(canvas, 'black-body.svg')"
   ]
  },
  {
   "cell_type": "markdown",
   "metadata": {},
   "source": [
    "Create a color preset file for ParaView. Since ParaView 4.4, JSON files are supported, which makes it easy to export."
   ]
  },
  {
   "cell_type": "code",
   "execution_count": 16,
   "metadata": {},
   "outputs": [],
   "source": [
    "RGBPoints = []\n",
    "for index in range(0, data.index.size):\n",
    "    RGBPoints.append(data['scalar'][index])\n",
    "    RGBPoints.extend(data['rgb_values'][index].get_value_tuple())\n",
    "    \n",
    "#RGBPoints"
   ]
  },
  {
   "cell_type": "code",
   "execution_count": 17,
   "metadata": {},
   "outputs": [],
   "source": [
    "import json\n",
    "\n",
    "file_descriptor = open('black-body-paraview-colors.json', 'w')\n",
    "json.dump([{'ColorSpace':'Lab',\n",
    "            'Name':'Black Body',\n",
    "            'NanColor':[0.0,0.5,1.0],\n",
    "            'RGBPoints':RGBPoints}],\n",
    "          file_descriptor,\n",
    "          indent=2)\n",
    "file_descriptor.close()"
   ]
  },
  {
   "cell_type": "markdown",
   "metadata": {},
   "source": [
    "Create several csv files containing color tables for this color map. We will create color tables of many different sizes from 8 rows to 1024. We also write out one set of csv files for \"upscaled\" color bytes (values 0-255) and another for floating point numbers (0-1)."
   ]
  },
  {
   "cell_type": "code",
   "execution_count": 18,
   "metadata": {},
   "outputs": [],
   "source": [
    "for num_bits in range(3, 11):\n",
    "    table_length = 2 ** num_bits\n",
    "    color_table = pandas.DataFrame({'scalar': numpy.linspace(0.0, 1.0, num=table_length)})\n",
    "    color_table['RGB'] = color_table['scalar'].apply(color_lookup_upscaled)\n",
    "    unzip_rgb_triple(color_table, 'RGB')\n",
    "    color_table.to_csv('black-body-table-byte-{:04}.csv'.format(table_length),\n",
    "                       index=False,\n",
    "                       columns=['scalar', 'RGB_r', 'RGB_g', 'RGB_b'])\n",
    "    color_table['sRGB'] = color_table['scalar'].apply(color_lookup)\n",
    "    unzip_rgb_triple(color_table, 'sRGB')\n",
    "    color_table.to_csv('black-body-table-float-{:04}.csv'.format(table_length),\n",
    "                       index=False,\n",
    "                       columns=['scalar', 'sRGB_r', 'sRGB_g', 'sRGB_b'],\n",
    "                       header=['scalar', 'RGB_r', 'RGB_g', 'RGB_b'])"
   ]
  },
  {
   "cell_type": "code",
   "execution_count": null,
   "metadata": {},
   "outputs": [],
   "source": []
  }
 ],
 "metadata": {
  "kernelspec": {
   "display_name": "Python 3",
   "language": "python",
   "name": "python3"
  },
  "language_info": {
   "codemirror_mode": {
    "name": "ipython",
    "version": 3
   },
   "file_extension": ".py",
   "mimetype": "text/x-python",
   "name": "python",
   "nbconvert_exporter": "python",
   "pygments_lexer": "ipython3",
   "version": "3.8.8"
  }
 },
 "nbformat": 4,
 "nbformat_minor": 1
}
