{
 "cells": [
  {
   "cell_type": "markdown",
   "metadata": {},
   "source": [
    "# Fast Color Map\n",
    "\n",
    "This Jupyter notebook takes a list of points that make up the Fast colormap and derives interpolated tables and figures. Fast comes from ParaView and is documented in the paper \"A New Default Colormap for ParaView\" by Samsel, Scott, and Moreland.\n",
    "\n",
    "This code relies on the [python-colormath](http://python-colormath.readthedocs.org/en/latest/index.html) module. See [its documentation](http://python-colormath.readthedocs.org/en/latest/index.html) for information such as installation instructions. (It can be installed with either pip or macports.)"
   ]
  },
  {
   "cell_type": "code",
   "execution_count": 1,
   "metadata": {},
   "outputs": [],
   "source": [
    "from colormath.color_objects import *\n",
    "from colormath.color_conversions import convert_color"
   ]
  },
  {
   "cell_type": "markdown",
   "metadata": {
    "collapsed": true,
    "jupyter": {
     "outputs_hidden": true
    }
   },
   "source": [
    "Mostly because it's habit, I am also using [pandas](http://pandas.pydata.org/) dataframes to organize the data. (Pandas can be installed with macports.)"
   ]
  },
  {
   "cell_type": "code",
   "execution_count": 2,
   "metadata": {},
   "outputs": [],
   "source": [
    "import pandas\n",
    "import numpy"
   ]
  },
  {
   "cell_type": "markdown",
   "metadata": {},
   "source": [
    "We will also be using [toyplot](https://toyplot.readthedocs.org) for making visuals (version 0.10.0 or later required). See its documentation for installation instructions."
   ]
  },
  {
   "cell_type": "code",
   "execution_count": 3,
   "metadata": {},
   "outputs": [],
   "source": [
    "import toyplot\n",
    "import toyplot.svg"
   ]
  },
  {
   "cell_type": "markdown",
   "metadata": {},
   "source": [
    "We will also be importing data in JSON files, so load a package for that."
   ]
  },
  {
   "cell_type": "code",
   "execution_count": 4,
   "metadata": {},
   "outputs": [],
   "source": [
    "import json"
   ]
  },
  {
   "cell_type": "markdown",
   "metadata": {},
   "source": [
    "Load the detailed color table (256 values) from a JSON file exported from ParaView."
   ]
  },
  {
   "cell_type": "code",
   "execution_count": 5,
   "metadata": {},
   "outputs": [],
   "source": [
    "file_descriptor = open('fast.json', 'r')\n",
    "raw_color_data = json.load(file_descriptor)[0]"
   ]
  },
  {
   "cell_type": "markdown",
   "metadata": {},
   "source": [
    "Run through the \"RGBPoints\" array, pull out the scalar interpolant and RGB colors, and create a pandas data frame from them."
   ]
  },
  {
   "cell_type": "code",
   "execution_count": 6,
   "metadata": {},
   "outputs": [],
   "source": [
    "scalar = []\n",
    "rgb_values = []\n",
    "for i in range(0, len(raw_color_data['RGBPoints']), 4):\n",
    "    scalar.append(raw_color_data['RGBPoints'][i+0])\n",
    "    rgb_values.append(sRGBColor(\n",
    "        raw_color_data['RGBPoints'][i+1],\n",
    "        raw_color_data['RGBPoints'][i+2],\n",
    "        raw_color_data['RGBPoints'][i+3]\n",
    "    ))\n",
    "\n",
    "data = pandas.DataFrame({'scalar': scalar, 'rgb_values': rgb_values})"
   ]
  },
  {
   "cell_type": "markdown",
   "metadata": {},
   "source": [
    "Convert RGB colors to Lab colors."
   ]
  },
  {
   "cell_type": "code",
   "execution_count": 7,
   "metadata": {},
   "outputs": [],
   "source": [
    "data['lab_values'] = data['rgb_values'].apply(lambda rgb: convert_color(rgb, LabColor))"
   ]
  },
  {
   "cell_type": "markdown",
   "metadata": {},
   "source": [
    "Make functions that will take a scalar value (in the range of 0 and 1) and return the appropriate RGB triple."
   ]
  },
  {
   "cell_type": "code",
   "execution_count": 8,
   "metadata": {},
   "outputs": [],
   "source": [
    "def color_lookup_sRGBColor(x):\n",
    "    if x < 0:\n",
    "        return sRGBColor(0, 0, 0)\n",
    "    for index in range(0, data.index.size-1):\n",
    "        low_scalar = data['scalar'][index]\n",
    "        high_scalar = data['scalar'][index+1]\n",
    "        if (x > high_scalar):\n",
    "            continue\n",
    "        low_lab = data['lab_values'][index]\n",
    "        high_lab = data['lab_values'][index+1]\n",
    "        interp = (x-low_scalar)/(high_scalar-low_scalar)\n",
    "        mid_lab = LabColor(interp*(high_lab.lab_l-low_lab.lab_l) + low_lab.lab_l,\n",
    "                           interp*(high_lab.lab_a-low_lab.lab_a) + low_lab.lab_a,\n",
    "                           interp*(high_lab.lab_b-low_lab.lab_b) + low_lab.lab_b,\n",
    "                           observer=low_lab.observer,\n",
    "                           illuminant=low_lab.illuminant)\n",
    "        return convert_color(mid_lab, sRGBColor)\n",
    "    return sRGBColor(1, 1, 1)\n",
    "\n",
    "def color_lookup(x):\n",
    "    return color_lookup_sRGBColor(x).get_value_tuple()\n",
    "\n",
    "def color_lookup_upscaled(x):\n",
    "    return color_lookup_sRGBColor(x).get_upscaled_value_tuple()"
   ]
  },
  {
   "cell_type": "markdown",
   "metadata": {},
   "source": [
    "Make a long table of colors. This is a very high resolution table of colors that can be easily trimmed down with regular sampling."
   ]
  },
  {
   "cell_type": "code",
   "execution_count": 9,
   "metadata": {},
   "outputs": [],
   "source": [
    "colors_long = pandas.DataFrame({'scalar': numpy.linspace(0.0, 1.0, num=1024)})\n",
    "colors_long['RGB'] = colors_long['scalar'].apply(color_lookup_upscaled)\n",
    "colors_long['sRGB'] = colors_long['scalar'].apply(color_lookup)"
   ]
  },
  {
   "cell_type": "markdown",
   "metadata": {},
   "source": [
    "The colors are all stored as tuples in a single column. This is convenient for some operations, but not others. Thus, also create separate columns for the three RGB components."
   ]
  },
  {
   "cell_type": "code",
   "execution_count": 10,
   "metadata": {},
   "outputs": [],
   "source": [
    "def unzip_rgb_triple(dataframe, column='RGB'):\n",
    "    '''Given a dataframe and the name of a column holding an RGB triplet,\n",
    "    this function creates new separate columns for the R, G, and B values\n",
    "    with the same name as the original with '_r', '_g', and '_b' appended.'''\n",
    "    # Creates a data frame with separate columns for the triples in the given column\n",
    "    unzipped_rgb = pandas.DataFrame(dataframe[column].values.tolist(),\n",
    "                                    columns=['r', 'g', 'b'])\n",
    "    # Add the columns to the original data frame\n",
    "    dataframe[column + '_r'] = unzipped_rgb['r']\n",
    "    dataframe[column + '_g'] = unzipped_rgb['g']\n",
    "    dataframe[column + '_b'] = unzipped_rgb['b']\n",
    "\n",
    "unzip_rgb_triple(colors_long, 'RGB')\n",
    "unzip_rgb_triple(colors_long, 'sRGB')"
   ]
  },
  {
   "cell_type": "markdown",
   "metadata": {},
   "source": [
    "Plot out the color map."
   ]
  },
  {
   "cell_type": "code",
   "execution_count": 11,
   "metadata": {},
   "outputs": [
    {
     "data": {
      "text/html": [
       "<div>\n",
       "<style scoped>\n",
       "    .dataframe tbody tr th:only-of-type {\n",
       "        vertical-align: middle;\n",
       "    }\n",
       "\n",
       "    .dataframe tbody tr th {\n",
       "        vertical-align: top;\n",
       "    }\n",
       "\n",
       "    .dataframe thead th {\n",
       "        text-align: right;\n",
       "    }\n",
       "</style>\n",
       "<table border=\"1\" class=\"dataframe\">\n",
       "  <thead>\n",
       "    <tr style=\"text-align: right;\">\n",
       "      <th></th>\n",
       "      <th>scalar</th>\n",
       "      <th>rgb_values</th>\n",
       "      <th>lab_values</th>\n",
       "    </tr>\n",
       "  </thead>\n",
       "  <tbody>\n",
       "    <tr>\n",
       "      <th>0</th>\n",
       "      <td>0.000000</td>\n",
       "      <td>sRGBColor (rgb_r:0.0564 rgb_g:0.0564 rgb_b:0.4...</td>\n",
       "      <td>LabColor (lab_l:14.2482 lab_a:39.5286 lab_b:-5...</td>\n",
       "    </tr>\n",
       "    <tr>\n",
       "      <th>1</th>\n",
       "      <td>0.171592</td>\n",
       "      <td>sRGBColor (rgb_r:0.2430 rgb_g:0.4604 rgb_b:0.8...</td>\n",
       "      <td>LabColor (lab_l:49.8797 lab_a:11.4158 lab_b:-5...</td>\n",
       "    </tr>\n",
       "    <tr>\n",
       "      <th>2</th>\n",
       "      <td>0.298491</td>\n",
       "      <td>sRGBColor (rgb_r:0.3568 rgb_g:0.7450 rgb_b:0.9...</td>\n",
       "      <td>LabColor (lab_l:73.2412 lab_a:-13.2698 lab_b:-...</td>\n",
       "    </tr>\n",
       "    <tr>\n",
       "      <th>3</th>\n",
       "      <td>0.432129</td>\n",
       "      <td>sRGBColor (rgb_r:0.6882 rgb_g:0.9300 rgb_b:0.9...</td>\n",
       "      <td>LabColor (lab_l:89.7516 lab_a:-19.9341 lab_b:-...</td>\n",
       "    </tr>\n",
       "    <tr>\n",
       "      <th>4</th>\n",
       "      <td>0.500000</td>\n",
       "      <td>sRGBColor (rgb_r:0.8995 rgb_g:0.9446 rgb_b:0.7...</td>\n",
       "      <td>LabColor (lab_l:93.2536 lab_a:-11.3275 lab_b:2...</td>\n",
       "    </tr>\n",
       "    <tr>\n",
       "      <th>5</th>\n",
       "      <td>0.588226</td>\n",
       "      <td>sRGBColor (rgb_r:0.9571 rgb_g:0.8338 rgb_b:0.5...</td>\n",
       "      <td>LabColor (lab_l:86.1320 lab_a:0.3907 lab_b:44....</td>\n",
       "    </tr>\n",
       "    <tr>\n",
       "      <th>6</th>\n",
       "      <td>0.706141</td>\n",
       "      <td>sRGBColor (rgb_r:0.9275 rgb_g:0.6214 rgb_b:0.3...</td>\n",
       "      <td>LabColor (lab_l:71.6387 lab_a:21.8940 lab_b:51...</td>\n",
       "    </tr>\n",
       "    <tr>\n",
       "      <th>7</th>\n",
       "      <td>0.847640</td>\n",
       "      <td>sRGBColor (rgb_r:0.8000 rgb_g:0.3520 rgb_b:0.1...</td>\n",
       "      <td>LabColor (lab_l:52.1421 lab_a:42.6420 lab_b:48...</td>\n",
       "    </tr>\n",
       "    <tr>\n",
       "      <th>8</th>\n",
       "      <td>1.000000</td>\n",
       "      <td>sRGBColor (rgb_r:0.5900 rgb_g:0.0767 rgb_b:0.1...</td>\n",
       "      <td>LabColor (lab_l:32.0549 lab_a:51.4306 lab_b:30...</td>\n",
       "    </tr>\n",
       "  </tbody>\n",
       "</table>\n",
       "</div>"
      ],
      "text/plain": [
       "     scalar                                         rgb_values  \\\n",
       "0  0.000000  sRGBColor (rgb_r:0.0564 rgb_g:0.0564 rgb_b:0.4...   \n",
       "1  0.171592  sRGBColor (rgb_r:0.2430 rgb_g:0.4604 rgb_b:0.8...   \n",
       "2  0.298491  sRGBColor (rgb_r:0.3568 rgb_g:0.7450 rgb_b:0.9...   \n",
       "3  0.432129  sRGBColor (rgb_r:0.6882 rgb_g:0.9300 rgb_b:0.9...   \n",
       "4  0.500000  sRGBColor (rgb_r:0.8995 rgb_g:0.9446 rgb_b:0.7...   \n",
       "5  0.588226  sRGBColor (rgb_r:0.9571 rgb_g:0.8338 rgb_b:0.5...   \n",
       "6  0.706141  sRGBColor (rgb_r:0.9275 rgb_g:0.6214 rgb_b:0.3...   \n",
       "7  0.847640  sRGBColor (rgb_r:0.8000 rgb_g:0.3520 rgb_b:0.1...   \n",
       "8  1.000000  sRGBColor (rgb_r:0.5900 rgb_g:0.0767 rgb_b:0.1...   \n",
       "\n",
       "                                          lab_values  \n",
       "0  LabColor (lab_l:14.2482 lab_a:39.5286 lab_b:-5...  \n",
       "1  LabColor (lab_l:49.8797 lab_a:11.4158 lab_b:-5...  \n",
       "2  LabColor (lab_l:73.2412 lab_a:-13.2698 lab_b:-...  \n",
       "3  LabColor (lab_l:89.7516 lab_a:-19.9341 lab_b:-...  \n",
       "4  LabColor (lab_l:93.2536 lab_a:-11.3275 lab_b:2...  \n",
       "5  LabColor (lab_l:86.1320 lab_a:0.3907 lab_b:44....  \n",
       "6  LabColor (lab_l:71.6387 lab_a:21.8940 lab_b:51...  \n",
       "7  LabColor (lab_l:52.1421 lab_a:42.6420 lab_b:48...  \n",
       "8  LabColor (lab_l:32.0549 lab_a:51.4306 lab_b:30...  "
      ]
     },
     "execution_count": 11,
     "metadata": {},
     "output_type": "execute_result"
    }
   ],
   "source": [
    "data"
   ]
  },
  {
   "cell_type": "code",
   "execution_count": 12,
   "metadata": {},
   "outputs": [
    {
     "data": {
      "text/plain": [
       "0      0.00, (14, 14, 120)\n",
       "1     0.17, (62, 117, 207)\n",
       "2     0.30, (91, 190, 243)\n",
       "3    0.43, (175, 237, 234)\n",
       "4    0.50, (229, 241, 196)\n",
       "5    0.59, (244, 213, 130)\n",
       "6     0.71, (237, 158, 80)\n",
       "7      0.85, (204, 90, 41)\n",
       "8      1.00, (150, 20, 30)\n",
       "dtype: object"
      ]
     },
     "execution_count": 12,
     "metadata": {},
     "output_type": "execute_result"
    }
   ],
   "source": [
    "data.apply(lambda row: '{:1.2f}, {}'.format(row['scalar'], str(row['rgb_values'].get_upscaled_value_tuple())), axis=1)"
   ]
  },
  {
   "cell_type": "code",
   "execution_count": 13,
   "metadata": {},
   "outputs": [],
   "source": [
    "colors_palette = toyplot.color.Palette(colors=colors_long['sRGB'].values)\n",
    "colors_map = toyplot.color.LinearMap(palette=colors_palette,\n",
    "                                     domain_min=0, domain_max=1)"
   ]
  },
  {
   "cell_type": "code",
   "execution_count": 14,
   "metadata": {},
   "outputs": [
    {
     "data": {
      "text/html": [
       "<div class=\"toyplot\" id=\"t1360173063c5400b957a00f77d622f61\" style=\"text-align:center\"><svg class=\"toyplot-canvas-Canvas\" xmlns:toyplot=\"http://www.sandia.gov/toyplot\" xmlns:xlink=\"http://www.w3.org/1999/xlink\" xmlns=\"http://www.w3.org/2000/svg\" width=\"130.0px\" height=\"300.0px\" viewBox=\"0 0 130.0 300.0\" preserveAspectRatio=\"xMidYMid meet\" style=\"background-color:transparent;border-color:#292724;border-style:none;border-width:1.0;fill:rgb(16.1%,15.3%,14.1%);fill-opacity:1.0;font-family:Helvetica;font-size:12px;opacity:1.0;stroke:rgb(16.1%,15.3%,14.1%);stroke-opacity:1.0;stroke-width:1.0\" id=\"ta3f78db3f835471b815ff9359b6fc83a\"><g class=\"toyplot-coordinates-Numberline\" id=\"tfb08d52b5f6f4aba851697a56a028eaf\"><clipPath id=\"tf0757b618408461194cc26e8c114ba0b\"><rect x=\"0\" y=\"-30.0\" width=\"286.0\" height=\"60.0\"></rect></clipPath><g clip-path=\"url(#tf0757b618408461194cc26e8c114ba0b)\" transform=\"translate(16.0,293.0)rotate(-90.0)\"><g class=\"toyplot-color-Map\" id=\"td338797df9ff4dacbb6d6bbb9ad76e60\"><defs><linearGradient id=\"t09d4b54755e64031a30a7b7ae7ad9650\" x1=\"0.0\" x2=\"286.0\" y1=\"0\" y2=\"0\" gradientUnits=\"userSpaceOnUse\"><stop stop-color=\"rgb(5.64%,5.64%,47%)\" stop-opacity=\"1.0\" offset=\"0.0\"></stop><stop stop-color=\"rgb(8.59%,9.86%,50%)\" stop-opacity=\"1.0\" offset=\"0.015873015873015872\"></stop><stop stop-color=\"rgb(11%,13.7%,53.1%)\" stop-opacity=\"1.0\" offset=\"0.031746031746031744\"></stop><stop stop-color=\"rgb(13.1%,17.4%,56.2%)\" stop-opacity=\"1.0\" offset=\"0.047619047619047616\"></stop><stop stop-color=\"rgb(14.9%,21%,59.3%)\" stop-opacity=\"1.0\" offset=\"0.06349206349206349\"></stop><stop stop-color=\"rgb(16.7%,24.6%,62.4%)\" stop-opacity=\"1.0\" offset=\"0.07936507936507936\"></stop><stop stop-color=\"rgb(18.2%,28.2%,65.6%)\" stop-opacity=\"1.0\" offset=\"0.09523809523809523\"></stop><stop stop-color=\"rgb(19.7%,31.9%,68.7%)\" stop-opacity=\"1.0\" offset=\"0.1111111111111111\"></stop><stop stop-color=\"rgb(21%,35.5%,71.9%)\" stop-opacity=\"1.0\" offset=\"0.12698412698412698\"></stop><stop stop-color=\"rgb(22.3%,39.2%,75.1%)\" stop-opacity=\"1.0\" offset=\"0.14285714285714285\"></stop><stop stop-color=\"rgb(23.4%,43%,78.4%)\" stop-opacity=\"1.0\" offset=\"0.15873015873015872\"></stop><stop stop-color=\"rgb(24.7%,46.7%,81.3%)\" stop-opacity=\"1.0\" offset=\"0.1746031746031746\"></stop><stop stop-color=\"rgb(26.4%,50.2%,83.2%)\" stop-opacity=\"1.0\" offset=\"0.19047619047619047\"></stop><stop stop-color=\"rgb(28.1%,53.7%,85%)\" stop-opacity=\"1.0\" offset=\"0.20634920634920634\"></stop><stop stop-color=\"rgb(29.6%,57.2%,86.8%)\" stop-opacity=\"1.0\" offset=\"0.2222222222222222\"></stop><stop stop-color=\"rgb(31%,60.7%,88.6%)\" stop-opacity=\"1.0\" offset=\"0.23809523809523808\"></stop><stop stop-color=\"rgb(32.4%,64.3%,90.4%)\" stop-opacity=\"1.0\" offset=\"0.25396825396825395\"></stop><stop stop-color=\"rgb(33.6%,67.9%,92.2%)\" stop-opacity=\"1.0\" offset=\"0.2698412698412698\"></stop><stop stop-color=\"rgb(34.8%,71.6%,94%)\" stop-opacity=\"1.0\" offset=\"0.2857142857142857\"></stop><stop stop-color=\"rgb(36.7%,74.9%,95.4%)\" stop-opacity=\"1.0\" offset=\"0.30158730158730157\"></stop><stop stop-color=\"rgb(41.8%,77.1%,95%)\" stop-opacity=\"1.0\" offset=\"0.31746031746031744\"></stop><stop stop-color=\"rgb(46.3%,79.2%,94.6%)\" stop-opacity=\"1.0\" offset=\"0.3333333333333333\"></stop><stop stop-color=\"rgb(50.4%,81.4%,94.2%)\" stop-opacity=\"1.0\" offset=\"0.3492063492063492\"></stop><stop stop-color=\"rgb(54.3%,83.6%,93.7%)\" stop-opacity=\"1.0\" offset=\"0.36507936507936506\"></stop><stop stop-color=\"rgb(58%,85.8%,93.3%)\" stop-opacity=\"1.0\" offset=\"0.38095238095238093\"></stop><stop stop-color=\"rgb(61.5%,88%,92.8%)\" stop-opacity=\"1.0\" offset=\"0.3968253968253968\"></stop><stop stop-color=\"rgb(64.8%,90.2%,92.4%)\" stop-opacity=\"1.0\" offset=\"0.4126984126984127\"></stop><stop stop-color=\"rgb(68.1%,92.5%,91.9%)\" stop-opacity=\"1.0\" offset=\"0.42857142857142855\"></stop><stop stop-color=\"rgb(73.2%,93.3%,89.1%)\" stop-opacity=\"1.0\" offset=\"0.4444444444444444\"></stop><stop stop-color=\"rgb(78.5%,93.6%,85.6%)\" stop-opacity=\"1.0\" offset=\"0.4603174603174603\"></stop><stop stop-color=\"rgb(83.3%,94%,82.1%)\" stop-opacity=\"1.0\" offset=\"0.47619047619047616\"></stop><stop stop-color=\"rgb(87.8%,94.3%,78.6%)\" stop-opacity=\"1.0\" offset=\"0.4920634920634921\"></stop><stop stop-color=\"rgb(90.7%,93.5%,74.5%)\" stop-opacity=\"1.0\" offset=\"0.5079365079365079\"></stop><stop stop-color=\"rgb(92%,91.5%,69.9%)\" stop-opacity=\"1.0\" offset=\"0.5238095238095237\"></stop><stop stop-color=\"rgb(93.1%,89.5%,65.2%)\" stop-opacity=\"1.0\" offset=\"0.5396825396825397\"></stop><stop stop-color=\"rgb(94.1%,87.5%,60.5%)\" stop-opacity=\"1.0\" offset=\"0.5555555555555556\"></stop><stop stop-color=\"rgb(95%,85.5%,55.9%)\" stop-opacity=\"1.0\" offset=\"0.5714285714285714\"></stop><stop stop-color=\"rgb(95.7%,83.5%,51.2%)\" stop-opacity=\"1.0\" offset=\"0.5873015873015872\"></stop><stop stop-color=\"rgb(95.5%,80.7%,48.4%)\" stop-opacity=\"1.0\" offset=\"0.6031746031746031\"></stop><stop stop-color=\"rgb(95.2%,77.9%,45.8%)\" stop-opacity=\"1.0\" offset=\"0.6190476190476191\"></stop><stop stop-color=\"rgb(94.9%,75%,43.1%)\" stop-opacity=\"1.0\" offset=\"0.6349206349206349\"></stop><stop stop-color=\"rgb(94.5%,72.1%,40.5%)\" stop-opacity=\"1.0\" offset=\"0.6507936507936507\"></stop><stop stop-color=\"rgb(94.1%,69.3%,37.9%)\" stop-opacity=\"1.0\" offset=\"0.6666666666666666\"></stop><stop stop-color=\"rgb(93.6%,66.4%,35.4%)\" stop-opacity=\"1.0\" offset=\"0.6825396825396826\"></stop><stop stop-color=\"rgb(93%,63.5%,32.8%)\" stop-opacity=\"1.0\" offset=\"0.6984126984126984\"></stop><stop stop-color=\"rgb(92.1%,60.6%,30.6%)\" stop-opacity=\"1.0\" offset=\"0.7142857142857142\"></stop><stop stop-color=\"rgb(90.7%,57.7%,28.8%)\" stop-opacity=\"1.0\" offset=\"0.7301587301587301\"></stop><stop stop-color=\"rgb(89.3%,54.7%,27%)\" stop-opacity=\"1.0\" offset=\"0.746031746031746\"></stop><stop stop-color=\"rgb(88%,51.7%,25.3%)\" stop-opacity=\"1.0\" offset=\"0.7619047619047619\"></stop><stop stop-color=\"rgb(86.5%,48.7%,23.5%)\" stop-opacity=\"1.0\" offset=\"0.7777777777777777\"></stop><stop stop-color=\"rgb(85.1%,45.7%,21.8%)\" stop-opacity=\"1.0\" offset=\"0.7936507936507936\"></stop><stop stop-color=\"rgb(83.6%,42.7%,20.1%)\" stop-opacity=\"1.0\" offset=\"0.8095238095238095\"></stop><stop stop-color=\"rgb(82.1%,39.6%,18.4%)\" stop-opacity=\"1.0\" offset=\"0.8253968253968254\"></stop><stop stop-color=\"rgb(80.6%,36.5%,16.7%)\" stop-opacity=\"1.0\" offset=\"0.8412698412698412\"></stop><stop stop-color=\"rgb(78.7%,33.7%,15.8%)\" stop-opacity=\"1.0\" offset=\"0.8571428571428571\"></stop><stop stop-color=\"rgb(76.5%,31.2%,15.4%)\" stop-opacity=\"1.0\" offset=\"0.873015873015873\"></stop><stop stop-color=\"rgb(74.3%,28.7%,15%)\" stop-opacity=\"1.0\" offset=\"0.8888888888888888\"></stop><stop stop-color=\"rgb(72.1%,26.1%,14.6%)\" stop-opacity=\"1.0\" offset=\"0.9047619047619048\"></stop><stop stop-color=\"rgb(69.9%,23.5%,14.2%)\" stop-opacity=\"1.0\" offset=\"0.9206349206349206\"></stop><stop stop-color=\"rgb(67.7%,20.8%,13.7%)\" stop-opacity=\"1.0\" offset=\"0.9365079365079364\"></stop><stop stop-color=\"rgb(65.5%,17.9%,13.3%)\" stop-opacity=\"1.0\" offset=\"0.9523809523809523\"></stop><stop stop-color=\"rgb(63.3%,14.9%,12.9%)\" stop-opacity=\"1.0\" offset=\"0.9682539682539681\"></stop><stop stop-color=\"rgb(61.2%,11.6%,12.4%)\" stop-opacity=\"1.0\" offset=\"0.9841269841269842\"></stop><stop stop-color=\"rgb(59%,7.67%,11.9%)\" stop-opacity=\"1.0\" offset=\"1.0\"></stop></linearGradient></defs><rect x=\"0.0\" y=\"-15.0\" width=\"286.0\" height=\"30\" style=\"fill:url(#t09d4b54755e64031a30a7b7ae7ad9650);stroke:rgb(82.7%,82.7%,82.7%);stroke-opacity:1.0;stroke-width:1.0\"></rect></g></g><g class=\"toyplot-coordinates-Axis\" id=\"t1bdd029777a840709b009428e29312ba\" transform=\"translate(16.0,293.0)rotate(-90.0)translate(0,30.0)\"><g><g transform=\"translate(0.0,6)rotate(90)\"><text x=\"-15.0\" y=\"2.5549999999999997\" style=\"fill:rgb(16.1%,15.3%,14.1%);fill-opacity:1.0;font-family:helvetica;font-size:10.0px;font-weight:normal;stroke:none;vertical-align:baseline;white-space:pre\">0.00, (14, 14, 120)</text></g><g transform=\"translate(49.07538047549536,6)rotate(90)\"><text x=\"-15.0\" y=\"2.5549999999999997\" style=\"fill:rgb(16.1%,15.3%,14.1%);fill-opacity:1.0;font-family:helvetica;font-size:10.0px;font-weight:normal;stroke:none;vertical-align:baseline;white-space:pre\">0.17, (62, 117, 207)</text></g><g transform=\"translate(85.36856380607236,6)rotate(90)\"><text x=\"-15.0\" y=\"2.5549999999999997\" style=\"fill:rgb(16.1%,15.3%,14.1%);fill-opacity:1.0;font-family:helvetica;font-size:10.0px;font-weight:normal;stroke:none;vertical-align:baseline;white-space:pre\">0.30, (91, 190, 243)</text></g><g transform=\"translate(123.58881881791893,6)rotate(90)\"><text x=\"-15.0\" y=\"2.5549999999999997\" style=\"fill:rgb(16.1%,15.3%,14.1%);fill-opacity:1.0;font-family:helvetica;font-size:10.0px;font-weight:normal;stroke:none;vertical-align:baseline;white-space:pre\">0.43, (175, 237, 234)</text></g><g transform=\"translate(143.0,6)rotate(90)\"><text x=\"-15.0\" y=\"2.5549999999999997\" style=\"fill:rgb(16.1%,15.3%,14.1%);fill-opacity:1.0;font-family:helvetica;font-size:10.0px;font-weight:normal;stroke:none;vertical-align:baseline;white-space:pre\">0.50, (229, 241, 196)</text></g><g transform=\"translate(168.2326461006641,6)rotate(90)\"><text x=\"-15.0\" y=\"2.5549999999999997\" style=\"fill:rgb(16.1%,15.3%,14.1%);fill-opacity:1.0;font-family:helvetica;font-size:10.0px;font-weight:normal;stroke:none;vertical-align:baseline;white-space:pre\">0.59, (244, 213, 130)</text></g><g transform=\"translate(201.9564005228817,6)rotate(90)\"><text x=\"-15.0\" y=\"2.5549999999999997\" style=\"fill:rgb(16.1%,15.3%,14.1%);fill-opacity:1.0;font-family:helvetica;font-size:10.0px;font-weight:normal;stroke:none;vertical-align:baseline;white-space:pre\">0.71, (237, 158, 80)</text></g><g transform=\"translate(242.42490582954278,6)rotate(90)\"><text x=\"-15.0\" y=\"2.5549999999999997\" style=\"fill:rgb(16.1%,15.3%,14.1%);fill-opacity:1.0;font-family:helvetica;font-size:10.0px;font-weight:normal;stroke:none;vertical-align:baseline;white-space:pre\">0.85, (204, 90, 41)</text></g><g transform=\"translate(286.0,6)rotate(90)\"><text x=\"-15.0\" y=\"2.5549999999999997\" style=\"fill:rgb(16.1%,15.3%,14.1%);fill-opacity:1.0;font-family:helvetica;font-size:10.0px;font-weight:normal;stroke:none;vertical-align:baseline;white-space:pre\">1.00, (150, 20, 30)</text></g></g><g class=\"toyplot-coordinates-Axis-coordinates\" style=\"visibility:hidden\" transform=\"\"><line x1=\"0\" x2=\"0\" y1=\"-3.0\" y2=\"4.5\" style=\"stroke:rgb(43.9%,50.2%,56.5%);stroke-opacity:1.0;stroke-width:1.0\"></line><text x=\"0\" y=\"-6\" style=\"alignment-baseline:alphabetic;fill:rgb(43.9%,50.2%,56.5%);fill-opacity:1.0;font-size:10px;font-weight:normal;stroke:none;text-anchor:middle\"></text></g></g></g></svg><div class=\"toyplot-behavior\"><script>(function()\n",
       "{\n",
       "var modules={};\n",
       "modules[\"toyplot/canvas/id\"] = \"ta3f78db3f835471b815ff9359b6fc83a\";\n",
       "modules[\"toyplot/canvas\"] = (function(canvas_id)\n",
       "    {\n",
       "        return document.querySelector(\"#\" + canvas_id);\n",
       "    })(modules[\"toyplot/canvas/id\"]);\n",
       "modules[\"toyplot.coordinates.Axis\"] = (\n",
       "        function(canvas)\n",
       "        {\n",
       "            function sign(x)\n",
       "            {\n",
       "                return x < 0 ? -1 : x > 0 ? 1 : 0;\n",
       "            }\n",
       "\n",
       "            function mix(a, b, amount)\n",
       "            {\n",
       "                return ((1.0 - amount) * a) + (amount * b);\n",
       "            }\n",
       "\n",
       "            function log(x, base)\n",
       "            {\n",
       "                return Math.log(Math.abs(x)) / Math.log(base);\n",
       "            }\n",
       "\n",
       "            function in_range(a, x, b)\n",
       "            {\n",
       "                var left = Math.min(a, b);\n",
       "                var right = Math.max(a, b);\n",
       "                return left <= x && x <= right;\n",
       "            }\n",
       "\n",
       "            function inside(range, projection)\n",
       "            {\n",
       "                for(var i = 0; i != projection.length; ++i)\n",
       "                {\n",
       "                    var segment = projection[i];\n",
       "                    if(in_range(segment.range.min, range, segment.range.max))\n",
       "                        return true;\n",
       "                }\n",
       "                return false;\n",
       "            }\n",
       "\n",
       "            function to_domain(range, projection)\n",
       "            {\n",
       "                for(var i = 0; i != projection.length; ++i)\n",
       "                {\n",
       "                    var segment = projection[i];\n",
       "                    if(in_range(segment.range.bounds.min, range, segment.range.bounds.max))\n",
       "                    {\n",
       "                        if(segment.scale == \"linear\")\n",
       "                        {\n",
       "                            var amount = (range - segment.range.min) / (segment.range.max - segment.range.min);\n",
       "                            return mix(segment.domain.min, segment.domain.max, amount)\n",
       "                        }\n",
       "                        else if(segment.scale[0] == \"log\")\n",
       "                        {\n",
       "                            var amount = (range - segment.range.min) / (segment.range.max - segment.range.min);\n",
       "                            var base = segment.scale[1];\n",
       "                            return sign(segment.domain.min) * Math.pow(base, mix(log(segment.domain.min, base), log(segment.domain.max, base), amount));\n",
       "                        }\n",
       "                    }\n",
       "                }\n",
       "            }\n",
       "\n",
       "            var axes = {};\n",
       "\n",
       "            function display_coordinates(e)\n",
       "            {\n",
       "                var current = canvas.createSVGPoint();\n",
       "                current.x = e.clientX;\n",
       "                current.y = e.clientY;\n",
       "\n",
       "                for(var axis_id in axes)\n",
       "                {\n",
       "                    var axis = document.querySelector(\"#\" + axis_id);\n",
       "                    var coordinates = axis.querySelector(\".toyplot-coordinates-Axis-coordinates\");\n",
       "                    if(coordinates)\n",
       "                    {\n",
       "                        var projection = axes[axis_id];\n",
       "                        var local = current.matrixTransform(axis.getScreenCTM().inverse());\n",
       "                        if(inside(local.x, projection))\n",
       "                        {\n",
       "                            var domain = to_domain(local.x, projection);\n",
       "                            coordinates.style.visibility = \"visible\";\n",
       "                            coordinates.setAttribute(\"transform\", \"translate(\" + local.x + \")\");\n",
       "                            var text = coordinates.querySelector(\"text\");\n",
       "                            text.textContent = domain.toFixed(2);\n",
       "                        }\n",
       "                        else\n",
       "                        {\n",
       "                            coordinates.style.visibility= \"hidden\";\n",
       "                        }\n",
       "                    }\n",
       "                }\n",
       "            }\n",
       "\n",
       "            canvas.addEventListener(\"click\", display_coordinates);\n",
       "\n",
       "            var module = {};\n",
       "            module.show_coordinates = function(axis_id, projection)\n",
       "            {\n",
       "                axes[axis_id] = projection;\n",
       "            }\n",
       "\n",
       "            return module;\n",
       "        })(modules[\"toyplot/canvas\"]);\n",
       "(function(axis, axis_id, projection)\n",
       "        {\n",
       "            axis.show_coordinates(axis_id, projection);\n",
       "        })(modules[\"toyplot.coordinates.Axis\"],\"t1bdd029777a840709b009428e29312ba\",[{\"domain\": {\"bounds\": {\"max\": Infinity, \"min\": -Infinity}, \"max\": 1.0, \"min\": 0.0}, \"range\": {\"bounds\": {\"max\": Infinity, \"min\": -Infinity}, \"max\": 286.0, \"min\": 0.0}, \"scale\": \"linear\"}]);\n",
       "})();</script></div></div>"
      ]
     },
     "metadata": {},
     "output_type": "display_data"
    }
   ],
   "source": [
    "canvas = toyplot.Canvas(width=130, height=300)\n",
    "numberline = canvas.numberline(x1=16, x2=16, y1=-7, y2=7)\n",
    "numberline.padding = 30\n",
    "numberline.axis.spine.show = False\n",
    "numberline.colormap(colors_map,\n",
    "                    width=30,\n",
    "                    style={'stroke':'lightgrey'})\n",
    "\n",
    "control_point_labels = \\\n",
    "    data.apply(lambda row: '{:1.2f}, {}'.format(\n",
    "            row['scalar'],\n",
    "            str(row['rgb_values'].get_upscaled_value_tuple())\n",
    "            ),\n",
    "        axis=1,\n",
    "        )\n",
    "numberline.axis.ticks.locator = \\\n",
    "    toyplot.locator.Explicit(locations=data['scalar'],\n",
    "                             labels=control_point_labels)\n",
    "numberline.axis.ticks.labels.angle = -90\n",
    "numberline.axis.ticks.labels.style = {'text-anchor':'start',\n",
    "                                      'baseline-shift':'0%',\n",
    "                                      '-toyplot-anchor-shift':'-15px'}"
   ]
  },
  {
   "cell_type": "code",
   "execution_count": 15,
   "metadata": {},
   "outputs": [],
   "source": [
    "toyplot.svg.render(canvas, 'fast.svg')"
   ]
  },
  {
   "cell_type": "markdown",
   "metadata": {},
   "source": [
    "Create several csv files containing color tables for this color map. We will create color tables of many different sizes from 8 rows to 1024. We also write out one set of csv files for \"upscaled\" color bytes (values 0-255) and another for floating point numbers (0-1)."
   ]
  },
  {
   "cell_type": "code",
   "execution_count": 16,
   "metadata": {},
   "outputs": [],
   "source": [
    "for num_bits in range(3, 11):\n",
    "    table_length = 2 ** num_bits\n",
    "    color_table = pandas.DataFrame({'scalar': numpy.linspace(0.0, 1.0, num=table_length)})\n",
    "    color_table['RGB'] = color_table['scalar'].apply(color_lookup_upscaled)\n",
    "    unzip_rgb_triple(color_table, 'RGB')\n",
    "    color_table.to_csv('fast-table-byte-{:04}.csv'.format(table_length),\n",
    "                       index=False,\n",
    "                       columns=['scalar', 'RGB_r', 'RGB_g', 'RGB_b'])\n",
    "    color_table['sRGB'] = color_table['scalar'].apply(color_lookup)\n",
    "    unzip_rgb_triple(color_table, 'sRGB')\n",
    "    color_table.to_csv('fast-table-float-{:04}.csv'.format(table_length),\n",
    "                       index=False,\n",
    "                       columns=['scalar', 'sRGB_r', 'sRGB_g', 'sRGB_b'],\n",
    "                       header=['scalar', 'RGB_r', 'RGB_g', 'RGB_b'])"
   ]
  },
  {
   "cell_type": "code",
   "execution_count": null,
   "metadata": {},
   "outputs": [],
   "source": []
  }
 ],
 "metadata": {
  "kernelspec": {
   "display_name": "Python 3 (ipykernel)",
   "language": "python",
   "name": "python3"
  },
  "language_info": {
   "codemirror_mode": {
    "name": "ipython",
    "version": 3
   },
   "file_extension": ".py",
   "mimetype": "text/x-python",
   "name": "python",
   "nbconvert_exporter": "python",
   "pygments_lexer": "ipython3",
   "version": "3.11.8"
  }
 },
 "nbformat": 4,
 "nbformat_minor": 4
}
