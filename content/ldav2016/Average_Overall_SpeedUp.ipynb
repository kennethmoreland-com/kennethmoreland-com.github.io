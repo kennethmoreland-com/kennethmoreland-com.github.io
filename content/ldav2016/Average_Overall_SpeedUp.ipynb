{
 "cells": [
  {
   "cell_type": "markdown",
   "metadata": {},
   "source": [
    "This was written with Toyplot 0.13. It definitely won't work with older versions."
   ]
  },
  {
   "cell_type": "code",
   "execution_count": 8,
   "metadata": {
    "collapsed": false
   },
   "outputs": [
    {
     "name": "stdout",
     "output_type": "stream",
     "text": [
      "0.13.0\n"
     ]
    }
   ],
   "source": [
    "import numpy\n",
    "import pandas\n",
    "import toyplot.pdf\n",
    "\n",
    "print toyplot.__version__"
   ]
  },
  {
   "cell_type": "markdown",
   "metadata": {},
   "source": [
    "Read in the data from a csv file."
   ]
  },
  {
   "cell_type": "code",
   "execution_count": 9,
   "metadata": {
    "collapsed": false,
    "scrolled": false
   },
   "outputs": [
    {
     "data": {
      "text/html": [
       "<div>\n",
       "<table border=\"1\" class=\"dataframe\">\n",
       "  <thead>\n",
       "    <tr style=\"text-align: right;\">\n",
       "      <th></th>\n",
       "      <th>Unnamed: 0</th>\n",
       "      <th>Algorithm</th>\n",
       "      <th>Speedup</th>\n",
       "      <th>Format</th>\n",
       "    </tr>\n",
       "  </thead>\n",
       "  <tbody>\n",
       "    <tr>\n",
       "      <th>0</th>\n",
       "      <td>1</td>\n",
       "      <td>2</td>\n",
       "      <td>1.503795</td>\n",
       "      <td>Explorable</td>\n",
       "    </tr>\n",
       "    <tr>\n",
       "      <th>1</th>\n",
       "      <td>2</td>\n",
       "      <td>3</td>\n",
       "      <td>2.858407</td>\n",
       "      <td>Explorable</td>\n",
       "    </tr>\n",
       "    <tr>\n",
       "      <th>2</th>\n",
       "      <td>3</td>\n",
       "      <td>4</td>\n",
       "      <td>3.668910</td>\n",
       "      <td>Explorable</td>\n",
       "    </tr>\n",
       "    <tr>\n",
       "      <th>3</th>\n",
       "      <td>4</td>\n",
       "      <td>2</td>\n",
       "      <td>2.036321</td>\n",
       "      <td>Static</td>\n",
       "    </tr>\n",
       "    <tr>\n",
       "      <th>4</th>\n",
       "      <td>5</td>\n",
       "      <td>3</td>\n",
       "      <td>2.397479</td>\n",
       "      <td>Static</td>\n",
       "    </tr>\n",
       "    <tr>\n",
       "      <th>5</th>\n",
       "      <td>6</td>\n",
       "      <td>4</td>\n",
       "      <td>2.824415</td>\n",
       "      <td>Static</td>\n",
       "    </tr>\n",
       "  </tbody>\n",
       "</table>\n",
       "</div>"
      ],
      "text/plain": [
       "   Unnamed: 0  Algorithm   Speedup      Format\n",
       "0           1          2  1.503795  Explorable\n",
       "1           2          3  2.858407  Explorable\n",
       "2           3          4  3.668910  Explorable\n",
       "3           4          2  2.036321      Static\n",
       "4           5          3  2.397479      Static\n",
       "5           6          4  2.824415      Static"
      ]
     },
     "execution_count": 9,
     "metadata": {},
     "output_type": "execute_result"
    }
   ],
   "source": [
    "plot_data = pandas.read_csv('Average_Overall_SpeedUp.csv')\n",
    "plot_data"
   ]
  },
  {
   "cell_type": "markdown",
   "metadata": {},
   "source": [
    "Change order of entries."
   ]
  },
  {
   "cell_type": "code",
   "execution_count": 10,
   "metadata": {
    "collapsed": false
   },
   "outputs": [
    {
     "data": {
      "text/html": [
       "<div>\n",
       "<table border=\"1\" class=\"dataframe\">\n",
       "  <thead>\n",
       "    <tr style=\"text-align: right;\">\n",
       "      <th></th>\n",
       "      <th>Format</th>\n",
       "      <th>Algorithm</th>\n",
       "      <th>Speedup</th>\n",
       "    </tr>\n",
       "  </thead>\n",
       "  <tbody>\n",
       "    <tr>\n",
       "      <th>3</th>\n",
       "      <td>Static</td>\n",
       "      <td>2</td>\n",
       "      <td>2.036321</td>\n",
       "    </tr>\n",
       "    <tr>\n",
       "      <th>4</th>\n",
       "      <td>Static</td>\n",
       "      <td>3</td>\n",
       "      <td>2.397479</td>\n",
       "    </tr>\n",
       "    <tr>\n",
       "      <th>5</th>\n",
       "      <td>Static</td>\n",
       "      <td>4</td>\n",
       "      <td>2.824415</td>\n",
       "    </tr>\n",
       "    <tr>\n",
       "      <th>0</th>\n",
       "      <td>Explorable</td>\n",
       "      <td>2</td>\n",
       "      <td>1.503795</td>\n",
       "    </tr>\n",
       "    <tr>\n",
       "      <th>1</th>\n",
       "      <td>Explorable</td>\n",
       "      <td>3</td>\n",
       "      <td>2.858407</td>\n",
       "    </tr>\n",
       "    <tr>\n",
       "      <th>2</th>\n",
       "      <td>Explorable</td>\n",
       "      <td>4</td>\n",
       "      <td>3.668910</td>\n",
       "    </tr>\n",
       "  </tbody>\n",
       "</table>\n",
       "</div>"
      ],
      "text/plain": [
       "       Format  Algorithm   Speedup\n",
       "3      Static          2  2.036321\n",
       "4      Static          3  2.397479\n",
       "5      Static          4  2.824415\n",
       "0  Explorable          2  1.503795\n",
       "1  Explorable          3  2.858407\n",
       "2  Explorable          4  3.668910"
      ]
     },
     "execution_count": 10,
     "metadata": {},
     "output_type": "execute_result"
    }
   ],
   "source": [
    "# Reorder rows based on non-lexigraphical sorting we want\n",
    "plot_data.Format = plot_data.Format.astype('category')\n",
    "plot_data.Format.cat.set_categories(['Static','Explorable'], inplace=True)\n",
    "plot_data.sort_values(['Format', 'Algorithm'], inplace=True)\n",
    "\n",
    "# Sort columns in the order we want\n",
    "plot_data = plot_data[['Format', 'Algorithm', 'Speedup']]\n",
    "\n",
    "plot_data"
   ]
  },
  {
   "cell_type": "markdown",
   "metadata": {},
   "source": [
    "Change the values to printable names."
   ]
  },
  {
   "cell_type": "code",
   "execution_count": 12,
   "metadata": {
    "collapsed": false
   },
   "outputs": [
    {
     "data": {
      "text/html": [
       "<div>\n",
       "<table border=\"1\" class=\"dataframe\">\n",
       "  <thead>\n",
       "    <tr style=\"text-align: right;\">\n",
       "      <th></th>\n",
       "      <th>Type</th>\n",
       "      <th>Alg</th>\n",
       "      <th>Speed-up</th>\n",
       "    </tr>\n",
       "  </thead>\n",
       "  <tbody>\n",
       "    <tr>\n",
       "      <th>3</th>\n",
       "      <td>Static</td>\n",
       "      <td>2</td>\n",
       "      <td>2.036321</td>\n",
       "    </tr>\n",
       "    <tr>\n",
       "      <th>4</th>\n",
       "      <td>Static</td>\n",
       "      <td>3</td>\n",
       "      <td>2.397479</td>\n",
       "    </tr>\n",
       "    <tr>\n",
       "      <th>5</th>\n",
       "      <td>Static</td>\n",
       "      <td>4</td>\n",
       "      <td>2.824415</td>\n",
       "    </tr>\n",
       "    <tr>\n",
       "      <th>0</th>\n",
       "      <td>Explorable</td>\n",
       "      <td>2</td>\n",
       "      <td>1.503795</td>\n",
       "    </tr>\n",
       "    <tr>\n",
       "      <th>1</th>\n",
       "      <td>Explorable</td>\n",
       "      <td>3</td>\n",
       "      <td>2.858407</td>\n",
       "    </tr>\n",
       "    <tr>\n",
       "      <th>2</th>\n",
       "      <td>Explorable</td>\n",
       "      <td>4</td>\n",
       "      <td>3.668910</td>\n",
       "    </tr>\n",
       "  </tbody>\n",
       "</table>\n",
       "</div>"
      ],
      "text/plain": [
       "         Type  Alg  Speed-up\n",
       "3      Static    2  2.036321\n",
       "4      Static    3  2.397479\n",
       "5      Static    4  2.824415\n",
       "0  Explorable    2  1.503795\n",
       "1  Explorable    3  2.858407\n",
       "2  Explorable    4  3.668910"
      ]
     },
     "execution_count": 12,
     "metadata": {},
     "output_type": "execute_result"
    }
   ],
   "source": [
    "plot_data.rename(index=str, columns={'Format': 'Type'}, inplace=True)\n",
    "plot_data.rename(index=str, columns={'Algorithm': 'Alg'}, inplace=True)\n",
    "plot_data.rename(index=str, columns={'Speedup': 'Speed-up'}, inplace=True)\n",
    "plot_data"
   ]
  },
  {
   "cell_type": "markdown",
   "metadata": {},
   "source": [
    "Duplicate value columns to put in bar chart."
   ]
  },
  {
   "cell_type": "code",
   "execution_count": 13,
   "metadata": {
    "collapsed": false
   },
   "outputs": [
    {
     "data": {
      "text/html": [
       "<div>\n",
       "<table border=\"1\" class=\"dataframe\">\n",
       "  <thead>\n",
       "    <tr style=\"text-align: right;\">\n",
       "      <th></th>\n",
       "      <th>Type</th>\n",
       "      <th>Alg</th>\n",
       "      <th>Speed-up</th>\n",
       "      <th>Speed-up</th>\n",
       "    </tr>\n",
       "  </thead>\n",
       "  <tbody>\n",
       "    <tr>\n",
       "      <th>3</th>\n",
       "      <td>Static</td>\n",
       "      <td>2</td>\n",
       "      <td>2.036321</td>\n",
       "      <td>2.036321</td>\n",
       "    </tr>\n",
       "    <tr>\n",
       "      <th>4</th>\n",
       "      <td>Static</td>\n",
       "      <td>3</td>\n",
       "      <td>2.397479</td>\n",
       "      <td>2.397479</td>\n",
       "    </tr>\n",
       "    <tr>\n",
       "      <th>5</th>\n",
       "      <td>Static</td>\n",
       "      <td>4</td>\n",
       "      <td>2.824415</td>\n",
       "      <td>2.824415</td>\n",
       "    </tr>\n",
       "    <tr>\n",
       "      <th>0</th>\n",
       "      <td>Explorable</td>\n",
       "      <td>2</td>\n",
       "      <td>1.503795</td>\n",
       "      <td>1.503795</td>\n",
       "    </tr>\n",
       "    <tr>\n",
       "      <th>1</th>\n",
       "      <td>Explorable</td>\n",
       "      <td>3</td>\n",
       "      <td>2.858407</td>\n",
       "      <td>2.858407</td>\n",
       "    </tr>\n",
       "    <tr>\n",
       "      <th>2</th>\n",
       "      <td>Explorable</td>\n",
       "      <td>4</td>\n",
       "      <td>3.668910</td>\n",
       "      <td>3.668910</td>\n",
       "    </tr>\n",
       "  </tbody>\n",
       "</table>\n",
       "</div>"
      ],
      "text/plain": [
       "         Type  Alg  Speed-up  Speed-up\n",
       "3      Static    2  2.036321  2.036321\n",
       "4      Static    3  2.397479  2.397479\n",
       "5      Static    4  2.824415  2.824415\n",
       "0  Explorable    2  1.503795  1.503795\n",
       "1  Explorable    3  2.858407  2.858407\n",
       "2  Explorable    4  3.668910  3.668910"
      ]
     },
     "execution_count": 13,
     "metadata": {},
     "output_type": "execute_result"
    }
   ],
   "source": [
    "plot_data.insert(3, 'Speed-up', plot_data['Speed-up'], allow_duplicates=True)\n",
    "plot_data"
   ]
  },
  {
   "cell_type": "code",
   "execution_count": 14,
   "metadata": {
    "collapsed": false
   },
   "outputs": [
    {
     "data": {
      "text/plain": [
       "3.6689095101814697"
      ]
     },
     "execution_count": 14,
     "metadata": {},
     "output_type": "execute_result"
    }
   ],
   "source": [
    "max_value = plot_data.max()[2:].max()\n",
    "max_value"
   ]
  },
  {
   "cell_type": "code",
   "execution_count": 18,
   "metadata": {
    "collapsed": false
   },
   "outputs": [
    {
     "data": {
      "text/html": [
       "<div align=\"center\" class=\"toyplot\" id=\"t334ef80e82d94ea5b733b1c62710c937\"><svg class=\"toyplot-canvas-Canvas\" height=\"225.0px\" id=\"t4013475381d3470aa41cd45059f72354\" preserveAspectRatio=\"xMidYMid meet\" style=\"background-color:transparent;fill:rgb(16.1%,15.3%,14.1%);fill-opacity:1.0;font-family:Helvetica;font-size:12px;opacity:1.0;stroke:rgb(16.1%,15.3%,14.1%);stroke-opacity:1.0;stroke-width:1.0\" viewBox=\"0 0 500.0 225.0\" width=\"500.0px\" xmlns=\"http://www.w3.org/2000/svg\" xmlns:toyplot=\"http://www.sandia.gov/toyplot\" xmlns:xlink=\"http://www.w3.org/1999/xlink\"><g class=\"toyplot-coordinates-Table\" id=\"tf1060f83850d43efac986e7f04395767\"><text style=\"dominant-baseline:middle;fill:rgb(16.1%,15.3%,14.1%);fill-opacity:1.0;font-size:12px;font-weight:bold;stroke:none;text-anchor:middle\" transform=\"translate(85.0,58.642857142857139)\"><tspan style=\"dominant-baseline:inherit\">Type</tspan></text><text style=\"dominant-baseline:middle;fill:rgb(16.1%,15.3%,14.1%);fill-opacity:1.0;font-size:12px;font-weight:bold;stroke:none;text-anchor:end\" transform=\"translate(140.0,58.642857142857139)\"><tspan style=\"dominant-baseline:inherit\">Alg</tspan></text><text style=\"dominant-baseline:middle;fill:rgb(16.1%,15.3%,14.1%);fill-opacity:1.0;font-size:12px;stroke:none;text-anchor:begin\" transform=\"translate(55.0,75.928571428571416)\"><tspan style=\"dominant-baseline:inherit\">Static</tspan></text><text style=\"dominant-baseline:middle;fill:rgb(16.1%,15.3%,14.1%);fill-opacity:1.0;font-size:12px;stroke:none;text-anchor:middle\" transform=\"translate(132.5,75.928571428571416)\"><tspan style=\"dominant-baseline:inherit\">2</tspan></text><text style=\"dominant-baseline:middle;fill:rgb(16.1%,15.3%,14.1%);fill-opacity:1.0;font-size:12px;stroke:none;text-anchor:end\" transform=\"translate(158.0,75.928571428571416)translate(8.0,0)\"><tspan style=\"dominant-baseline:inherit\">2</tspan></text><text style=\"dominant-baseline:middle;fill:rgb(16.1%,15.3%,14.1%);fill-opacity:1.0;font-size:12px;stroke:none;text-anchor:middle\" transform=\"translate(160.0,75.928571428571416)translate(8.0,0)\"><tspan style=\"dominant-baseline:inherit\">.</tspan></text><text style=\"dominant-baseline:middle;fill:rgb(16.1%,15.3%,14.1%);fill-opacity:1.0;font-size:12px;stroke:none;text-anchor:begin\" transform=\"translate(162.0,75.928571428571416)translate(8.0,0)\"><tspan style=\"dominant-baseline:inherit\">0</tspan></text><text style=\"dominant-baseline:middle;fill:rgb(16.1%,15.3%,14.1%);fill-opacity:1.0;font-size:12px;stroke:none;text-anchor:begin\" transform=\"translate(55.0,93.214285714285722)\"><tspan style=\"dominant-baseline:inherit\">Static</tspan></text><text style=\"dominant-baseline:middle;fill:rgb(16.1%,15.3%,14.1%);fill-opacity:1.0;font-size:12px;stroke:none;text-anchor:middle\" transform=\"translate(132.5,93.214285714285722)\"><tspan style=\"dominant-baseline:inherit\">3</tspan></text><text style=\"dominant-baseline:middle;fill:rgb(16.1%,15.3%,14.1%);fill-opacity:1.0;font-size:12px;stroke:none;text-anchor:end\" transform=\"translate(158.0,93.214285714285722)translate(8.0,0)\"><tspan style=\"dominant-baseline:inherit\">2</tspan></text><text style=\"dominant-baseline:middle;fill:rgb(16.1%,15.3%,14.1%);fill-opacity:1.0;font-size:12px;stroke:none;text-anchor:middle\" transform=\"translate(160.0,93.214285714285722)translate(8.0,0)\"><tspan style=\"dominant-baseline:inherit\">.</tspan></text><text style=\"dominant-baseline:middle;fill:rgb(16.1%,15.3%,14.1%);fill-opacity:1.0;font-size:12px;stroke:none;text-anchor:begin\" transform=\"translate(162.0,93.214285714285722)translate(8.0,0)\"><tspan style=\"dominant-baseline:inherit\">4</tspan></text><text style=\"dominant-baseline:middle;fill:rgb(16.1%,15.3%,14.1%);fill-opacity:1.0;font-size:12px;stroke:none;text-anchor:begin\" transform=\"translate(55.0,110.5)\"><tspan style=\"dominant-baseline:inherit\">Static</tspan></text><text style=\"dominant-baseline:middle;fill:rgb(16.1%,15.3%,14.1%);fill-opacity:1.0;font-size:12px;stroke:none;text-anchor:middle\" transform=\"translate(132.5,110.5)\"><tspan style=\"dominant-baseline:inherit\">4</tspan></text><text style=\"dominant-baseline:middle;fill:rgb(16.1%,15.3%,14.1%);fill-opacity:1.0;font-size:12px;stroke:none;text-anchor:end\" transform=\"translate(158.0,110.5)translate(8.0,0)\"><tspan style=\"dominant-baseline:inherit\">2</tspan></text><text style=\"dominant-baseline:middle;fill:rgb(16.1%,15.3%,14.1%);fill-opacity:1.0;font-size:12px;stroke:none;text-anchor:middle\" transform=\"translate(160.0,110.5)translate(8.0,0)\"><tspan style=\"dominant-baseline:inherit\">.</tspan></text><text style=\"dominant-baseline:middle;fill:rgb(16.1%,15.3%,14.1%);fill-opacity:1.0;font-size:12px;stroke:none;text-anchor:begin\" transform=\"translate(162.0,110.5)translate(8.0,0)\"><tspan style=\"dominant-baseline:inherit\">8</tspan></text><text style=\"dominant-baseline:middle;fill:rgb(16.1%,15.3%,14.1%);fill-opacity:1.0;font-size:12px;stroke:none;text-anchor:begin\" transform=\"translate(55.0,131.78571428571428)\"><tspan style=\"dominant-baseline:inherit\">Explorable</tspan></text><text style=\"dominant-baseline:middle;fill:rgb(16.1%,15.3%,14.1%);fill-opacity:1.0;font-size:12px;stroke:none;text-anchor:middle\" transform=\"translate(132.5,131.78571428571428)\"><tspan style=\"dominant-baseline:inherit\">2</tspan></text><text style=\"dominant-baseline:middle;fill:rgb(16.1%,15.3%,14.1%);fill-opacity:1.0;font-size:12px;stroke:none;text-anchor:end\" transform=\"translate(158.0,131.78571428571428)translate(8.0,0)\"><tspan style=\"dominant-baseline:inherit\">1</tspan></text><text style=\"dominant-baseline:middle;fill:rgb(16.1%,15.3%,14.1%);fill-opacity:1.0;font-size:12px;stroke:none;text-anchor:middle\" transform=\"translate(160.0,131.78571428571428)translate(8.0,0)\"><tspan style=\"dominant-baseline:inherit\">.</tspan></text><text style=\"dominant-baseline:middle;fill:rgb(16.1%,15.3%,14.1%);fill-opacity:1.0;font-size:12px;stroke:none;text-anchor:begin\" transform=\"translate(162.0,131.78571428571428)translate(8.0,0)\"><tspan style=\"dominant-baseline:inherit\">5</tspan></text><text style=\"dominant-baseline:middle;fill:rgb(16.1%,15.3%,14.1%);fill-opacity:1.0;font-size:12px;stroke:none;text-anchor:begin\" transform=\"translate(55.0,149.07142857142856)\"><tspan style=\"dominant-baseline:inherit\">Explorable</tspan></text><text style=\"dominant-baseline:middle;fill:rgb(16.1%,15.3%,14.1%);fill-opacity:1.0;font-size:12px;stroke:none;text-anchor:middle\" transform=\"translate(132.5,149.07142857142856)\"><tspan style=\"dominant-baseline:inherit\">3</tspan></text><text style=\"dominant-baseline:middle;fill:rgb(16.1%,15.3%,14.1%);fill-opacity:1.0;font-size:12px;stroke:none;text-anchor:end\" transform=\"translate(158.0,149.07142857142856)translate(8.0,0)\"><tspan style=\"dominant-baseline:inherit\">2</tspan></text><text style=\"dominant-baseline:middle;fill:rgb(16.1%,15.3%,14.1%);fill-opacity:1.0;font-size:12px;stroke:none;text-anchor:middle\" transform=\"translate(160.0,149.07142857142856)translate(8.0,0)\"><tspan style=\"dominant-baseline:inherit\">.</tspan></text><text style=\"dominant-baseline:middle;fill:rgb(16.1%,15.3%,14.1%);fill-opacity:1.0;font-size:12px;stroke:none;text-anchor:begin\" transform=\"translate(162.0,149.07142857142856)translate(8.0,0)\"><tspan style=\"dominant-baseline:inherit\">9</tspan></text><text style=\"dominant-baseline:middle;fill:rgb(16.1%,15.3%,14.1%);fill-opacity:1.0;font-size:12px;stroke:none;text-anchor:begin\" transform=\"translate(55.0,166.35714285714283)\"><tspan style=\"dominant-baseline:inherit\">Explorable</tspan></text><text style=\"dominant-baseline:middle;fill:rgb(16.1%,15.3%,14.1%);fill-opacity:1.0;font-size:12px;stroke:none;text-anchor:middle\" transform=\"translate(132.5,166.35714285714283)\"><tspan style=\"dominant-baseline:inherit\">4</tspan></text><text style=\"dominant-baseline:middle;fill:rgb(16.1%,15.3%,14.1%);fill-opacity:1.0;font-size:12px;stroke:none;text-anchor:end\" transform=\"translate(158.0,166.35714285714283)translate(8.0,0)\"><tspan style=\"dominant-baseline:inherit\">3</tspan></text><text style=\"dominant-baseline:middle;fill:rgb(16.1%,15.3%,14.1%);fill-opacity:1.0;font-size:12px;stroke:none;text-anchor:middle\" transform=\"translate(160.0,166.35714285714283)translate(8.0,0)\"><tspan style=\"dominant-baseline:inherit\">.</tspan></text><text style=\"dominant-baseline:middle;fill:rgb(16.1%,15.3%,14.1%);fill-opacity:1.0;font-size:12px;stroke:none;text-anchor:begin\" transform=\"translate(162.0,166.35714285714283)translate(8.0,0)\"><tspan style=\"dominant-baseline:inherit\">7</tspan></text><text style=\"dominant-baseline:middle;fill:rgb(16.1%,15.3%,14.1%);fill-opacity:1.0;font-size:12px;font-weight:bold;stroke:none;text-anchor:middle\" transform=\"translate(297.5,58.642857142857139)translate(8.0,0)\"><tspan style=\"dominant-baseline:inherit\">Average Speed-up</tspan></text><g class=\"toyplot-coordinates-Cartesian\" id=\"td73684aefe474fd3834ce50a697733a7\"><clipPath id=\"t0fa6af356ab84797a372f2004bf5b82d\"><rect height=\"107.71428571428569\" width=\"275.0\" x=\"175.0\" y=\"67.285714285714278\"></rect></clipPath><g clip-path=\"url(#t0fa6af356ab84797a372f2004bf5b82d)\"><g class=\"toyplot-mark-BarMagnitudes\" id=\"tb681b85dec7b4e919b24c61c89295cff\" style=\"stroke:rgb(100%,100%,100%);stroke-opacity:1.0;stroke-width:1.0\"><g class=\"toyplot-Series\"><rect class=\"toyplot-Datum\" height=\"17.285710164478857\" style=\"fill:rgb(40%,76.1%,64.7%);fill-opacity:1.0;opacity:1.0;stroke:rgb(100%,100%,100%);stroke-opacity:1.0;stroke-width:1.0\" width=\"149.3005660368384\" x=\"178.0\" y=\"67.285716346331995\"></rect><rect class=\"toyplot-Datum\" height=\"17.285710164478857\" style=\"fill:rgb(40%,76.1%,64.7%);fill-opacity:1.0;opacity:1.0;stroke:rgb(100%,100%,100%);stroke-opacity:1.0;stroke-width:1.0\" width=\"175.78028705212296\" x=\"178.0\" y=\"84.571430632046287\"></rect><rect class=\"toyplot-Datum\" height=\"17.285710164478814\" style=\"fill:rgb(40%,76.1%,64.7%);fill-opacity:1.0;opacity:1.0;stroke:rgb(100%,100%,100%);stroke-opacity:1.0;stroke-width:1.0\" width=\"207.08268087598788\" x=\"178.0\" y=\"101.85714491776059\"></rect><rect class=\"toyplot-Datum\" height=\"17.285710164478829\" style=\"fill:rgb(40%,76.1%,64.7%);fill-opacity:1.0;opacity:1.0;stroke:rgb(100%,100%,100%);stroke-opacity:1.0;stroke-width:1.0\" width=\"110.25642272956338\" x=\"178.0\" y=\"123.14285920347486\"></rect><rect class=\"toyplot-Datum\" height=\"17.285710164478871\" style=\"fill:rgb(40%,76.1%,64.7%);fill-opacity:1.0;opacity:1.0;stroke:rgb(100%,100%,100%);stroke-opacity:1.0;stroke-width:1.0\" width=\"209.57492371657884\" x=\"178.0\" y=\"140.42857348918912\"></rect><rect class=\"toyplot-Datum\" height=\"17.285710164478814\" style=\"fill:rgb(40%,76.1%,64.7%);fill-opacity:1.0;opacity:1.0;stroke:rgb(100%,100%,100%);stroke-opacity:1.0;stroke-width:1.0\" width=\"269.0\" x=\"178.0\" y=\"157.71428777490343\"></rect></g></g></g></g><line style=\"stroke:rgb(16.1%,15.3%,14.1%);stroke-opacity:1.0;stroke-width:0.5\" x1=\"50.0\" x2=\"450.0\" y1=\"67.285714285714278\" y2=\"67.285714285714278\"></line></g></svg><div class=\"toyplot-interactive\"><ul class=\"toyplot-mark-popup\" onmouseleave=\"this.style.visibility='hidden'\" style=\"background:rgba(0%,0%,0%,0.75);border:0;border-radius:6px;color:white;cursor:default;list-style:none;margin:0;padding:5px;position:fixed;visibility:hidden\">\n",
       "            <li class=\"toyplot-mark-popup-title\" style=\"color:lightgray;cursor:default;padding:5px;list-style:none;margin:0\"></li>\n",
       "            <li class=\"toyplot-mark-popup-save-csv\" onmouseout=\"this.style.color='white';this.style.background='steelblue'\" onmouseover=\"this.style.color='steelblue';this.style.background='white'\" style=\"border-radius:3px;padding:5px;list-style:none;margin:0\">\n",
       "                Save as .csv\n",
       "            </li>\n",
       "        </ul><script>\n",
       "        (function()\n",
       "        {\n",
       "          var data_tables = [{\"title\": \"Table Data\", \"names\": [\"Type\", \"Alg\", \"Average Speed-up\", \"Average Speed-up\"], \"id\": \"tf1060f83850d43efac986e7f04395767\", \"columns\": [[\"Static\", \"Static\", \"Static\", \"Explorable\", \"Explorable\", \"Explorable\"], [2, 3, 4, 2, 3, 4], [2.03632069371016, 2.39747943073592, 2.82441493405125, 1.50379493647243, 2.8584068056480003, 3.6689095101814697], [2.03632069371016, 2.39747943073592, 2.82441493405125, 1.50379493647243, 2.8584068056480003, 3.6689095101814697]], \"filename\": \"toyplot\"}, {\"title\": \"Bar Data\", \"names\": [\"left\", \"right\", \"baseline\", \"magnitude0\"], \"id\": \"tb681b85dec7b4e919b24c61c89295cff\", \"columns\": [[-0.49999988079071045, 0.5000001192092896, 1.5000001192092896, 2.5000001192092896, 3.5000001192092896, 4.5000001192092896], [0.49999988079071045, 1.4999998807907104, 2.4999998807907104, 3.4999998807907104, 4.4999998807907104, 5.4999998807907104], [0.0, 0.0, 0.0, 0.0, 0.0, 0.0], [2.03632069371016, 2.39747943073592, 2.82441493405125, 1.50379493647243, 2.8584068056480003, 3.6689095101814697]], \"filename\": \"toyplot\"}];\n",
       "\n",
       "          function save_csv(data_table)\n",
       "          {\n",
       "            var uri = \"data:text/csv;charset=utf-8,\";\n",
       "            uri += data_table.names.join(\",\") + \"\\n\";\n",
       "            for(var i = 0; i != data_table.columns[0].length; ++i)\n",
       "            {\n",
       "              for(var j = 0; j != data_table.columns.length; ++j)\n",
       "              {\n",
       "                if(j)\n",
       "                  uri += \",\";\n",
       "                uri += data_table.columns[j][i];\n",
       "              }\n",
       "              uri += \"\\n\";\n",
       "            }\n",
       "            uri = encodeURI(uri);\n",
       "\n",
       "            var link = document.createElement(\"a\");\n",
       "            if(typeof link.download != \"undefined\")\n",
       "            {\n",
       "              link.href = uri;\n",
       "              link.style = \"visibility:hidden\";\n",
       "              link.download = data_table.filename + \".csv\";\n",
       "\n",
       "              document.body.appendChild(link);\n",
       "              link.click();\n",
       "              document.body.removeChild(link);\n",
       "            }\n",
       "            else\n",
       "            {\n",
       "              window.open(uri);\n",
       "            }\n",
       "          }\n",
       "\n",
       "          function open_popup(data_table)\n",
       "          {\n",
       "            return function(e)\n",
       "            {\n",
       "              var popup = document.querySelector(\"#t334ef80e82d94ea5b733b1c62710c937 .toyplot-mark-popup\");\n",
       "              popup.querySelector(\".toyplot-mark-popup-title\").innerHTML = data_table.title;\n",
       "              popup.querySelector(\".toyplot-mark-popup-save-csv\").onclick = function() { popup.style.visibility = \"hidden\"; save_csv(data_table); }\n",
       "              popup.style.left = (e.clientX - 50) + \"px\";\n",
       "              popup.style.top = (e.clientY - 20) + \"px\";\n",
       "              popup.style.visibility = \"visible\";\n",
       "              e.stopPropagation();\n",
       "              e.preventDefault();\n",
       "            }\n",
       "\n",
       "          }\n",
       "\n",
       "          for(var i = 0; i != data_tables.length; ++i)\n",
       "          {\n",
       "            var data_table = data_tables[i];\n",
       "            var event_target = document.querySelector(\"#\" + data_table.id);\n",
       "            event_target.oncontextmenu = open_popup(data_table);\n",
       "          }\n",
       "        })();\n",
       "        </script></div></div>"
      ]
     },
     "metadata": {},
     "output_type": "display_data"
    }
   ],
   "source": [
    "canvas = toyplot.Canvas(width=500, height=225)\n",
    "table = canvas.table(plot_data)\n",
    "table.cells.cell[:,2:].format = toyplot.format.FloatFormatter(format='{:.1f}')\n",
    "\n",
    "# Generally I do not want vertical lines, but they can be handy when resizing columns.\n",
    "#table.grid.vlines[...] = \"single\"\n",
    "\n",
    "table.column(0).width = 70\n",
    "table.column(1).width = 25\n",
    "table.column(2).width = 30\n",
    "table.column(2).column_offset = 8\n",
    "\n",
    "# Left align the text in cells, center algorithm number\n",
    "table.body.cell[:, 0:1].align = 'left'\n",
    "table.body.cell[:, 1].align = 'center'\n",
    "\n",
    "# Merge header for numbers and bar chart\n",
    "table.top.cell[0,2:4].merge().data = \"Average Speed-up\"\n",
    "\n",
    "# Make bar chart columns\n",
    "axes = table.body.column[3].cartesian()\n",
    "axes.cell_bars(width=1)\n",
    "axes.x.domain.max = max_value\n",
    "\n",
    "# Add gaps to separate groups\n",
    "table.body.gaps.rows[[2]] = '3pt'"
   ]
  },
  {
   "cell_type": "code",
   "execution_count": 19,
   "metadata": {
    "collapsed": true
   },
   "outputs": [],
   "source": [
    "toyplot.pdf.render(canvas, 'Average_Overall_SpeedUp.pdf')"
   ]
  },
  {
   "cell_type": "code",
   "execution_count": null,
   "metadata": {
    "collapsed": true
   },
   "outputs": [],
   "source": []
  }
 ],
 "metadata": {
  "kernelspec": {
   "display_name": "Python 2",
   "language": "python",
   "name": "python2"
  },
  "language_info": {
   "codemirror_mode": {
    "name": "ipython",
    "version": 2
   },
   "file_extension": ".py",
   "mimetype": "text/x-python",
   "name": "python",
   "nbconvert_exporter": "python",
   "pygments_lexer": "ipython2",
   "version": "2.7.11"
  }
 },
 "nbformat": 4,
 "nbformat_minor": 0
}
